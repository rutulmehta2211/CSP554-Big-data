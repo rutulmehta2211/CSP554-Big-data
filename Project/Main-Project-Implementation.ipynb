{
 "cells": [
  {
   "cell_type": "markdown",
   "id": "4dd40eee",
   "metadata": {},
   "source": [
    "#### Imports"
   ]
  },
  {
   "cell_type": "code",
   "execution_count": 1,
   "id": "fac6d6b9",
   "metadata": {},
   "outputs": [
    {
     "name": "stdout",
     "output_type": "stream",
     "text": [
      "Requirement already satisfied: langdetect in /home/ec2-user/anaconda3/envs/python3/lib/python3.6/site-packages (1.0.9)\n",
      "Requirement already satisfied: six in /home/ec2-user/anaconda3/envs/python3/lib/python3.6/site-packages (from langdetect) (1.15.0)\n",
      "Requirement already satisfied: textblob in /home/ec2-user/anaconda3/envs/python3/lib/python3.6/site-packages (0.17.1)\n",
      "Requirement already satisfied: nltk>=3.1 in /home/ec2-user/anaconda3/envs/python3/lib/python3.6/site-packages (from textblob) (3.4.4)\n",
      "Requirement already satisfied: six in /home/ec2-user/anaconda3/envs/python3/lib/python3.6/site-packages (from nltk>=3.1->textblob) (1.15.0)\n"
     ]
    },
    {
     "name": "stderr",
     "output_type": "stream",
     "text": [
      "[nltk_data] Downloading package wordnet to /home/ec2-user/nltk_data...\n",
      "[nltk_data]   Package wordnet is already up-to-date!\n",
      "[nltk_data] Downloading package stopwords to\n",
      "[nltk_data]     /home/ec2-user/nltk_data...\n",
      "[nltk_data]   Package stopwords is already up-to-date!\n",
      "[nltk_data] Downloading package punkt to /home/ec2-user/nltk_data...\n",
      "[nltk_data]   Package punkt is already up-to-date!\n"
     ]
    }
   ],
   "source": [
    "import io\n",
    "from itertools import combinations\n",
    "from pprint import pprint as pp\n",
    "import boto3, re, sys, math, json, os, sagemaker, urllib.request\n",
    "from sagemaker import get_execution_role\n",
    "import numpy as np\n",
    "import pandas as pd\n",
    "import matplotlib.pyplot as plt\n",
    "from IPython.display import Image\n",
    "from IPython.display import display\n",
    "from time import gmtime, strftime\n",
    "from sagemaker.predictor import csv_serializer\n",
    "import sagemaker\n",
    "from sagemaker.serializers import CSVSerializer\n",
    "\n",
    "# sklearn ~ statistical and analytical\n",
    "from sklearn.model_selection import train_test_split\n",
    "from sklearn.feature_extraction.text import CountVectorizer\n",
    "from sklearn.naive_bayes import GaussianNB\n",
    "from sklearn.linear_model import LogisticRegression\n",
    "from sklearn.ensemble import RandomForestClassifier\n",
    "from sklearn.metrics import cohen_kappa_score as kappa\n",
    "from sklearn.metrics import accuracy_score, confusion_matrix, ConfusionMatrixDisplay, precision_recall_fscore_support\n",
    "from sagemaker.sklearn.processing import SKLearnProcessor\n",
    "from sagemaker.sklearn.estimator import SKLearn\n",
    "\n",
    "!pip install langdetect\n",
    "!pip install textblob\n",
    "# language and string related\n",
    "import langdetect \n",
    "import re\n",
    "import nltk\n",
    "nltk.download('wordnet')\n",
    "nltk.download('stopwords')\n",
    "nltk.download('punkt')\n",
    "from nltk.tokenize import word_tokenize\n",
    "from nltk.corpus import stopwords\n",
    "from nltk.stem import WordNetLemmatizer \n",
    "from textblob import TextBlob"
   ]
  },
  {
   "cell_type": "markdown",
   "id": "134b0890",
   "metadata": {},
   "source": [
    "#### SageMaker Parameters"
   ]
  },
  {
   "cell_type": "code",
   "execution_count": 2,
   "id": "d8024b68",
   "metadata": {},
   "outputs": [
    {
     "name": "stdout",
     "output_type": "stream",
     "text": [
      "Region: us-east-2\n",
      "Role: arn:aws:iam::482117536264:role/service-role/AmazonSageMaker-ExecutionRole-20211128T120734\n"
     ]
    }
   ],
   "source": [
    "role = get_execution_role()\n",
    "my_region = boto3.session.Session().region_name\n",
    "prefix = 'sagemaker'\n",
    "print(f\"Region: {my_region}\\nRole: {role}\")"
   ]
  },
  {
   "cell_type": "markdown",
   "id": "45857b04",
   "metadata": {},
   "source": [
    "#### s3 Bucket Setup here"
   ]
  },
  {
   "cell_type": "code",
   "execution_count": 3,
   "id": "52df9b72",
   "metadata": {},
   "outputs": [],
   "source": [
    "bucket_name = 'a20470263-bdt'\n",
    "s3 = boto3.resource('s3')"
   ]
  },
  {
   "cell_type": "code",
   "execution_count": 4,
   "id": "ee482816",
   "metadata": {},
   "outputs": [],
   "source": [
    "try:\n",
    "  bucket = s3.Bucket(bucket_name)\n",
    "except Exception as e:\n",
    "  print('Bucket load error: ',e)"
   ]
  },
  {
   "cell_type": "markdown",
   "id": "2011e192",
   "metadata": {},
   "source": [
    "# Part 1."
   ]
  },
  {
   "cell_type": "markdown",
   "id": "05d180ad",
   "metadata": {},
   "source": [
    "Generate File-list from the Bucket here:"
   ]
  },
  {
   "cell_type": "code",
   "execution_count": 5,
   "id": "a2f8c249",
   "metadata": {},
   "outputs": [
    {
     "name": "stdout",
     "output_type": "stream",
     "text": [
      "['raw_dataset/change.org_stance/change.org_stance_0.csv',\n",
      " 'raw_dataset/change.org_stance/change.org_stance_1.csv',\n",
      " 'raw_dataset/change.org_stance/change.org_stance_2.csv',\n",
      " 'raw_dataset/change.org_stance/change.org_stance_3.csv',\n",
      " 'raw_dataset/change.org_stance/change.org_stance_4.csv',\n",
      " 'raw_dataset/nyt_stance/nyt_stance_0.csv',\n",
      " 'raw_dataset/nyt_stance/nyt_stance_1.csv',\n",
      " 'raw_dataset/nyt_stance/nyt_stance_2.csv']\n"
     ]
    }
   ],
   "source": [
    "file_list = []\n",
    "for o in bucket.objects.filter(Prefix=\"raw_dataset/\"):\n",
    "    file_list.append(o.key)\n",
    "file_list.remove('raw_dataset/')\n",
    "pp(file_list)"
   ]
  },
  {
   "cell_type": "markdown",
   "id": "60e8aa17",
   "metadata": {},
   "source": [
    "Import a file as Dataframe:\n",
    "\n",
    "As well as replace Nan values with 'missing'"
   ]
  },
  {
   "cell_type": "code",
   "execution_count": 6,
   "id": "e9cc4f53",
   "metadata": {},
   "outputs": [],
   "source": [
    "def get_data(key):\n",
    "    file = bucket.Object(key).get()\n",
    "    df = pd.read_csv(io.BytesIO(file['Body'].read()))\n",
    "    \n",
    "    ### Pre-Processing to replace Nan values with 'missing'\n",
    "    df.fillna(\"missing\", inplace = True)\n",
    "    return df"
   ]
  },
  {
   "cell_type": "markdown",
   "id": "27161465",
   "metadata": {},
   "source": [
    "Function to generate Cohen-Kappa scores for the individual dataframes:"
   ]
  },
  {
   "cell_type": "code",
   "execution_count": 7,
   "id": "aa7500ba",
   "metadata": {},
   "outputs": [],
   "source": [
    "def generate_scores(df):\n",
    "    scores  = dict()\n",
    "\n",
    "    # Make a list of all annotators\n",
    "    annotators = df.columns[1:]\n",
    "    \n",
    "    # Make Combinations of annotators \n",
    "    combination = [comb for comb in combinations(annotators, 2)]\n",
    "\n",
    "    # Find Cohen Kappa Score for each annotator\n",
    "    for annotator in annotators:\n",
    "        count = 0\n",
    "        score = 0\n",
    "        for comb in combination:\n",
    "            if annotator in comb:\n",
    "                count += 1\n",
    "                score += kappa(df[comb[0]], df[comb[1]])\n",
    "        scores[annotator] = score/count\n",
    "    \n",
    "    return scores"
   ]
  },
  {
   "cell_type": "markdown",
   "id": "d2b35c0a",
   "metadata": {},
   "source": [
    "Function to score all the files:"
   ]
  },
  {
   "cell_type": "code",
   "execution_count": 8,
   "id": "597c10a7",
   "metadata": {},
   "outputs": [],
   "source": [
    "def kappa_scores():\n",
    "\n",
    "    kappa_scores = dict()\n",
    "\n",
    "    # Make a dictionary including the Cohen Kappa Scores\n",
    "    for key in file_list:\n",
    "        df = get_data(key)\n",
    "        scores = generate_scores(df)\n",
    "        kappa_scores[key] = scores\n",
    "\n",
    "    return kappa_scores"
   ]
  },
  {
   "cell_type": "markdown",
   "id": "c44f71ab",
   "metadata": {},
   "source": [
    "Now let's score all the documents and print the scores."
   ]
  },
  {
   "cell_type": "code",
   "execution_count": 9,
   "id": "77140859",
   "metadata": {},
   "outputs": [
    {
     "name": "stdout",
     "output_type": "stream",
     "text": [
      "{'raw_dataset/change.org_stance/change.org_stance_0.csv': {'annotation_27': 0.5032793858401802,\n",
      "                                                           'annotation_28': 0.49463342800971427,\n",
      "                                                           'annotation_29': 0.5276606620317315,\n",
      "                                                           'annotation_30': 0.5145702455534705},\n",
      " 'raw_dataset/change.org_stance/change.org_stance_1.csv': {'annotation_47': -0.008552173274344432,\n",
      "                                                           'annotation_70': 0.3688930890135748,\n",
      "                                                           'annotation_72': 0.4067923401526055,\n",
      "                                                           'annotation_79': 0.3289185347006164,\n",
      "                                                           'annotation_80': 0.30967719672101673},\n",
      " 'raw_dataset/change.org_stance/change.org_stance_2.csv': {'annotation_21': 0.48319250404607295,\n",
      "                                                           'annotation_23': 0.46708670683466663,\n",
      "                                                           'annotation_25': 0.4581048880702892,\n",
      "                                                           'annotation_77': 0.4807285389202223},\n",
      " 'raw_dataset/change.org_stance/change.org_stance_3.csv': {'annotation_88': 0.43216821649980325,\n",
      "                                                           'annotation_89': 0.38854883684022506,\n",
      "                                                           'annotation_90': 0.40958486212809087,\n",
      "                                                           'annotation_92': 0.43285730035790787},\n",
      " 'raw_dataset/change.org_stance/change.org_stance_4.csv': {'annotation_105': 0.4612851163870723,\n",
      "                                                           'annotation_106': 0.3695093944170927,\n",
      "                                                           'annotation_107': 0.4661858847521502,\n",
      "                                                           'annotation_108': 0.4282759993712198},\n",
      " 'raw_dataset/nyt_stance/nyt_stance_0.csv': {'annotation_60': 0.412180736139301,\n",
      "                                             'annotation_61': 0.37110000577589375,\n",
      "                                             'annotation_63': 0.2818925156965555,\n",
      "                                             'annotation_64': 0.35566044647923256},\n",
      " 'raw_dataset/nyt_stance/nyt_stance_1.csv': {'annotation_20': 0.34262175463818884,\n",
      "                                             'annotation_34': 0.38231525380480935,\n",
      "                                             'annotation_4': 0.41087478217237505,\n",
      "                                             'annotation_5': 0.29590450222106796},\n",
      " 'raw_dataset/nyt_stance/nyt_stance_2.csv': {'annotation_62': 0.30450723707881616,\n",
      "                                             'annotation_7': 0.3089403539517842,\n",
      "                                             'annotation_78': 0.31627575307191835,\n",
      "                                             'annotation_8': -0.0005676090538629663,\n",
      "                                             'annotation_9': 0.18790021508095137}}\n"
     ]
    }
   ],
   "source": [
    "kappa_scores = kappa_scores()\n",
    "\n",
    "# clear enviroment\n",
    "del(file_list)\n",
    "\n",
    "pp(kappa_scores)"
   ]
  },
  {
   "cell_type": "markdown",
   "id": "c86ed80f",
   "metadata": {},
   "source": [
    "A function to drop annotators which have a __Cohen Kappa Score < 0.2__ from the output of part one."
   ]
  },
  {
   "cell_type": "code",
   "execution_count": 10,
   "id": "77084af8",
   "metadata": {},
   "outputs": [],
   "source": [
    "def get_reliable_annotators(scores):\n",
    "    reliable_scores = dict()\n",
    "\n",
    "    # Drop annotator if below 0.2\n",
    "    for annotator in scores:\n",
    "        if scores.get(annotator) >= 0.2:\n",
    "            reliable_scores[annotator] = scores[annotator]\n",
    "\n",
    "    return reliable_scores"
   ]
  },
  {
   "cell_type": "markdown",
   "id": "23027763",
   "metadata": {},
   "source": [
    "A function to decide the final label for each of the text (rows) in the dataset. This is a label voting based decision making. Where ever there is a tie, label group having a higher average Cohen Kappa scores is selected as the final label. Since there is a tie, count of involved individual labels is same, and thus the total sum of Kappa scores for both the labels can be directly compared without dividing them by their counts to get the same answer."
   ]
  },
  {
   "cell_type": "code",
   "execution_count": 11,
   "id": "17f0bfd1",
   "metadata": {},
   "outputs": [],
   "source": [
    "def generate_final_labels(reliable_scores,df):\n",
    "    \n",
    "    annotators = []\n",
    "    vote = []\n",
    "    \n",
    "    # Make a list of reliable annotators\n",
    "    for annotator in reliable_scores:\n",
    "        annotators.append(annotator)\n",
    "\n",
    "    # At each row\n",
    "    for _, row in df.iterrows():\n",
    "    \n",
    "        pro = 0\n",
    "        pro_score = 0\n",
    "        anti = 0\n",
    "        anti_score = 0\n",
    "        unclear = 0\n",
    "        unclear_score = 0\n",
    "\n",
    "        RE_PRO = re.compile(r'pro-mitigation')\n",
    "        RE_UN = re.compile(r'unclear')\n",
    "\n",
    "        # Make a count of labels and their kappa scores\n",
    "        for annotator in annotators:\n",
    "            if RE_PRO.search(row[annotator]):\n",
    "                pro += 1\n",
    "                pro_score += reliable_scores[annotator]\n",
    "            elif  RE_UN.search(row[annotator]):\n",
    "                unclear += 1\n",
    "                unclear_score += reliable_scores[annotator]\n",
    "            else:\n",
    "                anti += 1\n",
    "                anti_score += reliable_scores[annotator]\n",
    "\n",
    "        # Decide which label to give based on count and average kappa score\n",
    "        if (pro > anti) and (pro > unclear):\n",
    "            vote.append(\"pro-mitigation\")\n",
    "        elif (unclear > anti) and (unclear > pro):\n",
    "            vote.append(\"unclear\")\n",
    "        elif (anti > pro) and (anti > unclear):\n",
    "            vote.append(\"anti-mitigation\")\n",
    "        else:\n",
    "            \n",
    "            # Special Case where 2 labels have a tie\n",
    "            if (pro == anti) and (pro_score > anti_score) and (pro != unclear):\n",
    "                vote.append(\"pro-mitigation\")\n",
    "            elif (pro == unclear) and (pro_score > unclear_score) and (pro != anti):\n",
    "                vote.append(\"pro-mitigation\")\n",
    "            elif (anti == pro) and (anti_score > pro_score) and (anti != unclear):\n",
    "                vote.append(\"anti-mitigation\")\n",
    "            elif (anti == unclear) and (anti_score > unclear_score) and (anti != pro):\n",
    "                vote.append(\"anti-mitigation\")\n",
    "            elif (unclear == pro) and (unclear_score > pro_score) and (unclear != anti):\n",
    "                vote.append(\"unclear\")\n",
    "            elif (unclear == anti) and (unclear_score > anti_score) and (unclear != pro):\n",
    "                vote.append(\"unclear\")\n",
    "            else:\n",
    "                \n",
    "                # Special-Special Case where all 3 labels have a tie\n",
    "                if (anti_score > unclear_score) and (anti_score > pro_score):\n",
    "                    vote.append(\"anti-mitigation\")\n",
    "                elif (pro_score > unclear_score) and (pro_score > anti_score):\n",
    "                    vote.append(\"pro-mitigation\")\n",
    "                else:\n",
    "                    vote.append(\"unclear\")\n",
    "    \n",
    "    # Return a new Dataframe with just text and label\n",
    "    final_df = df[['text']].copy()\n",
    "    final_df['label'] = vote\n",
    "    return final_df"
   ]
  },
  {
   "cell_type": "code",
   "execution_count": 12,
   "id": "8e54cbaf",
   "metadata": {},
   "outputs": [],
   "source": [
    "def make_final_df(kappa_scores):\n",
    "    \n",
    "    # Make a blank DF\n",
    "    output = pd.DataFrame(columns=['text', 'label'])\n",
    "\n",
    "    # At each file\n",
    "    for key in kappa_scores:\n",
    "        \n",
    "        # keep only reliable annotators\n",
    "        reliable_scores = get_reliable_annotators(kappa_scores[key])\n",
    "        print(f\"Reliable annotators in {key}\")\n",
    "        pp(reliable_scores)\n",
    "\n",
    "        # get the corresponding dataset \n",
    "        df = get_data(key)\n",
    "\n",
    "        # give final labels to the file and append to output\n",
    "        output = output.append(generate_final_labels(reliable_scores, df), ignore_index=True)\n",
    "\n",
    "    return output"
   ]
  },
  {
   "cell_type": "code",
   "execution_count": 13,
   "id": "2c002e40",
   "metadata": {
    "scrolled": false
   },
   "outputs": [
    {
     "name": "stdout",
     "output_type": "stream",
     "text": [
      "Reliable annotators in raw_dataset/change.org_stance/change.org_stance_0.csv\n",
      "{'annotation_27': 0.5032793858401802,\n",
      " 'annotation_28': 0.49463342800971427,\n",
      " 'annotation_29': 0.5276606620317315,\n",
      " 'annotation_30': 0.5145702455534705}\n",
      "Reliable annotators in raw_dataset/change.org_stance/change.org_stance_1.csv\n",
      "{'annotation_70': 0.3688930890135748,\n",
      " 'annotation_72': 0.4067923401526055,\n",
      " 'annotation_79': 0.3289185347006164,\n",
      " 'annotation_80': 0.30967719672101673}\n",
      "Reliable annotators in raw_dataset/change.org_stance/change.org_stance_2.csv\n",
      "{'annotation_21': 0.48319250404607295,\n",
      " 'annotation_23': 0.46708670683466663,\n",
      " 'annotation_25': 0.4581048880702892,\n",
      " 'annotation_77': 0.4807285389202223}\n",
      "Reliable annotators in raw_dataset/change.org_stance/change.org_stance_3.csv\n",
      "{'annotation_88': 0.43216821649980325,\n",
      " 'annotation_89': 0.38854883684022506,\n",
      " 'annotation_90': 0.40958486212809087,\n",
      " 'annotation_92': 0.43285730035790787}\n",
      "Reliable annotators in raw_dataset/change.org_stance/change.org_stance_4.csv\n",
      "{'annotation_105': 0.4612851163870723,\n",
      " 'annotation_106': 0.3695093944170927,\n",
      " 'annotation_107': 0.4661858847521502,\n",
      " 'annotation_108': 0.4282759993712198}\n",
      "Reliable annotators in raw_dataset/nyt_stance/nyt_stance_0.csv\n",
      "{'annotation_60': 0.412180736139301,\n",
      " 'annotation_61': 0.37110000577589375,\n",
      " 'annotation_63': 0.2818925156965555,\n",
      " 'annotation_64': 0.35566044647923256}\n",
      "Reliable annotators in raw_dataset/nyt_stance/nyt_stance_1.csv\n",
      "{'annotation_20': 0.34262175463818884,\n",
      " 'annotation_34': 0.38231525380480935,\n",
      " 'annotation_4': 0.41087478217237505,\n",
      " 'annotation_5': 0.29590450222106796}\n",
      "Reliable annotators in raw_dataset/nyt_stance/nyt_stance_2.csv\n",
      "{'annotation_62': 0.30450723707881616,\n",
      " 'annotation_7': 0.3089403539517842,\n",
      " 'annotation_78': 0.31627575307191835}\n"
     ]
    }
   ],
   "source": [
    "dataset = make_final_df(kappa_scores)"
   ]
  },
  {
   "cell_type": "markdown",
   "id": "7db568e0",
   "metadata": {},
   "source": [
    "Final Dataset looks as follows:"
   ]
  },
  {
   "cell_type": "code",
   "execution_count": 14,
   "id": "1633ccc7",
   "metadata": {},
   "outputs": [
    {
     "data": {
      "text/html": [
       "<div>\n",
       "<style scoped>\n",
       "    .dataframe tbody tr th:only-of-type {\n",
       "        vertical-align: middle;\n",
       "    }\n",
       "\n",
       "    .dataframe tbody tr th {\n",
       "        vertical-align: top;\n",
       "    }\n",
       "\n",
       "    .dataframe thead th {\n",
       "        text-align: right;\n",
       "    }\n",
       "</style>\n",
       "<table border=\"1\" class=\"dataframe\">\n",
       "  <thead>\n",
       "    <tr style=\"text-align: right;\">\n",
       "      <th></th>\n",
       "      <th>text</th>\n",
       "      <th>label</th>\n",
       "    </tr>\n",
       "  </thead>\n",
       "  <tbody>\n",
       "    <tr>\n",
       "      <th>0</th>\n",
       "      <td>Postpone CBSE Board Exams</td>\n",
       "      <td>unclear</td>\n",
       "    </tr>\n",
       "    <tr>\n",
       "      <th>1</th>\n",
       "      <td>Pay rise for paramedics and nurses</td>\n",
       "      <td>unclear</td>\n",
       "    </tr>\n",
       "    <tr>\n",
       "      <th>2</th>\n",
       "      <td>Too Soon To Open Georgia!</td>\n",
       "      <td>pro-mitigation</td>\n",
       "    </tr>\n",
       "    <tr>\n",
       "      <th>3</th>\n",
       "      <td>Request to reconsider DPS Ruby Park school tui...</td>\n",
       "      <td>pro-mitigation</td>\n",
       "    </tr>\n",
       "    <tr>\n",
       "      <th>4</th>\n",
       "      <td>Covid-19 Aesthetics / Salon / Massage Industry...</td>\n",
       "      <td>unclear</td>\n",
       "    </tr>\n",
       "    <tr>\n",
       "      <th>5</th>\n",
       "      <td>Pause classes and encourage online classes to ...</td>\n",
       "      <td>pro-mitigation</td>\n",
       "    </tr>\n",
       "    <tr>\n",
       "      <th>6</th>\n",
       "      <td>Allow Salons to Operate with New Health Guidel...</td>\n",
       "      <td>pro-mitigation</td>\n",
       "    </tr>\n",
       "    <tr>\n",
       "      <th>7</th>\n",
       "      <td>Open Letter to the AAMC Concerning the Medical...</td>\n",
       "      <td>unclear</td>\n",
       "    </tr>\n",
       "    <tr>\n",
       "      <th>8</th>\n",
       "      <td>Canadian Nurses Deserve Hazard Pay For Pandemics</td>\n",
       "      <td>pro-mitigation</td>\n",
       "    </tr>\n",
       "    <tr>\n",
       "      <th>9</th>\n",
       "      <td>Maharashtra demands Resignation from Uddhav Th...</td>\n",
       "      <td>unclear</td>\n",
       "    </tr>\n",
       "  </tbody>\n",
       "</table>\n",
       "</div>"
      ],
      "text/plain": [
       "                                                text           label\n",
       "0                          Postpone CBSE Board Exams         unclear\n",
       "1                 Pay rise for paramedics and nurses         unclear\n",
       "2                          Too Soon To Open Georgia!  pro-mitigation\n",
       "3  Request to reconsider DPS Ruby Park school tui...  pro-mitigation\n",
       "4  Covid-19 Aesthetics / Salon / Massage Industry...         unclear\n",
       "5  Pause classes and encourage online classes to ...  pro-mitigation\n",
       "6  Allow Salons to Operate with New Health Guidel...  pro-mitigation\n",
       "7  Open Letter to the AAMC Concerning the Medical...         unclear\n",
       "8   Canadian Nurses Deserve Hazard Pay For Pandemics  pro-mitigation\n",
       "9  Maharashtra demands Resignation from Uddhav Th...         unclear"
      ]
     },
     "execution_count": 14,
     "metadata": {},
     "output_type": "execute_result"
    }
   ],
   "source": [
    "dataset.head(10)"
   ]
  },
  {
   "cell_type": "code",
   "execution_count": 15,
   "id": "3e2f91fa",
   "metadata": {},
   "outputs": [
    {
     "data": {
      "text/plain": [
       "(2313, 2)"
      ]
     },
     "execution_count": 15,
     "metadata": {},
     "output_type": "execute_result"
    }
   ],
   "source": [
    "dataset.shape"
   ]
  },
  {
   "cell_type": "code",
   "execution_count": 16,
   "id": "cb7137e1",
   "metadata": {},
   "outputs": [],
   "source": [
    "del(kappa_scores)"
   ]
  },
  {
   "cell_type": "markdown",
   "id": "3db65c0c",
   "metadata": {},
   "source": [
    "# Part 2."
   ]
  },
  {
   "cell_type": "markdown",
   "id": "da5e32c7",
   "metadata": {},
   "source": [
    "\n",
    "## 1. Make Partitions\n",
    "Let's explore the data before making partitions to better understand the distribution of the classes."
   ]
  },
  {
   "cell_type": "code",
   "execution_count": 17,
   "id": "d9cd8de0",
   "metadata": {},
   "outputs": [
    {
     "name": "stdout",
     "output_type": "stream",
     "text": [
      "Class distribution is:\n",
      "unclear            0.455685\n",
      "pro-mitigation     0.442283\n",
      "anti-mitigation    0.102032\n",
      "Name: label, dtype: float64\n"
     ]
    }
   ],
   "source": [
    "print(f\"Class distribution is:\\n{dataset['label'].value_counts()/dataset.shape[0]}\")"
   ]
  },
  {
   "cell_type": "markdown",
   "id": "f8742a42",
   "metadata": {},
   "source": [
    "Takeaway: Focusing on the dataset's distribution since that will be used to train the model, it is observed that:\n",
    "\n",
    "a majority (45%) records belong to the unclear class.\n",
    "followed by (at 44%) pro-mitigation class.\n",
    "This is not a balanced distribution, and thus, might give us a bad model."
   ]
  },
  {
   "cell_type": "code",
   "execution_count": 18,
   "id": "f5ea07af",
   "metadata": {},
   "outputs": [],
   "source": [
    "x_train, x_test, y_train, y_test = train_test_split(dataset[\"text\"], dataset[\"label\"], test_size=0.3, stratify=dataset[\"label\"], shuffle=True)\n"
   ]
  },
  {
   "cell_type": "markdown",
   "id": "6a8520af",
   "metadata": {},
   "source": [
    "We have split the dataset into train and test using the stratify parameter which keeps the samples similar to the actual dataset's distribution.\n",
    "\n",
    "Let's explore the train and test set's distribution."
   ]
  },
  {
   "cell_type": "code",
   "execution_count": 19,
   "id": "29035d90",
   "metadata": {},
   "outputs": [
    {
     "name": "stdout",
     "output_type": "stream",
     "text": [
      "Class distribution for TRAIN SET is:\n",
      "unclear            0.455837\n",
      "pro-mitigation     0.442248\n",
      "anti-mitigation    0.101915\n",
      "Name: label, dtype: float64\n",
      "\n",
      "Class distribution for TEST SET is:\n",
      "unclear            0.455331\n",
      "pro-mitigation     0.442363\n",
      "anti-mitigation    0.102305\n",
      "Name: label, dtype: float64\n"
     ]
    }
   ],
   "source": [
    "print(f\"Class distribution for TRAIN SET is:\\n{y_train.value_counts()/y_train.shape[0]}\")\n",
    "print(f\"\\nClass distribution for TEST SET is:\\n{y_test.value_counts()/y_test.shape[0]}\")"
   ]
  },
  {
   "cell_type": "markdown",
   "id": "81467992",
   "metadata": {},
   "source": [
    "Now that we have similar distributions in the Train and Test sets, we can create our first model using these."
   ]
  },
  {
   "cell_type": "markdown",
   "id": "cc3cc668",
   "metadata": {},
   "source": [
    "## 2. Problems with Dataset:"
   ]
  },
  {
   "cell_type": "markdown",
   "id": "c407dfd8",
   "metadata": {},
   "source": [
    "Let's create a simple bag of words to find out the problems with our dataset so that we can preprocess the data accordingly.\n",
    "\n",
    "I have used Count Vectorizer Class from sklearn package's Textual Feature Extraction module to create bag-of-words."
   ]
  },
  {
   "cell_type": "code",
   "execution_count": 20,
   "id": "58d0855e",
   "metadata": {},
   "outputs": [],
   "source": [
    "vectorizer = CountVectorizer()"
   ]
  },
  {
   "cell_type": "markdown",
   "id": "1665a46a",
   "metadata": {},
   "source": [
    "I'll create (fit) a bag-of-words on the training set only and use this bag-of-words to transfrom test sets."
   ]
  },
  {
   "cell_type": "code",
   "execution_count": 21,
   "id": "efd0bc84",
   "metadata": {},
   "outputs": [],
   "source": [
    "bow_train = vectorizer.fit_transform(x_train)\n",
    "bow_test = vectorizer.transform(x_test)"
   ]
  },
  {
   "cell_type": "markdown",
   "id": "c20b57b8",
   "metadata": {},
   "source": [
    "let's see the word bags that are being created."
   ]
  },
  {
   "cell_type": "code",
   "execution_count": 22,
   "id": "42cb5c2d",
   "metadata": {},
   "outputs": [
    {
     "name": "stdout",
     "output_type": "stream",
     "text": [
      "There are a total of 6961 word bags, and some of them are:\n"
     ]
    },
    {
     "data": {
      "text/plain": [
       "['00',\n",
       " '000',\n",
       " '021',\n",
       " '03553',\n",
       " '04',\n",
       " '09',\n",
       " '10',\n",
       " '100',\n",
       " '101',\n",
       " '102',\n",
       " '1080',\n",
       " '10hrs',\n",
       " '10th',\n",
       " '11',\n",
       " '110']"
      ]
     },
     "execution_count": 22,
     "metadata": {},
     "output_type": "execute_result"
    }
   ],
   "source": [
    "word_bags = vectorizer.get_feature_names()\n",
    "del(vectorizer)\n",
    "print(f\"There are a total of {len(word_bags)} word bags, and some of them are:\")\n",
    "word_bags[:15]"
   ]
  },
  {
   "cell_type": "markdown",
   "id": "6534ee9b",
   "metadata": {},
   "source": [
    "Multiple problems with the words can be immidiately noticed.\n",
    "\n",
    "PROBLEMS:\n",
    "\n",
    "existance of different canonical forms of the same stem word. Let's take the word 'act' as an example."
   ]
  },
  {
   "cell_type": "code",
   "execution_count": 23,
   "id": "32bffd46",
   "metadata": {},
   "outputs": [
    {
     "data": {
      "text/plain": [
       "['act', 'acted', 'acting', 'action', 'actions', 'active', 'actively']"
      ]
     },
     "execution_count": 23,
     "metadata": {},
     "output_type": "execute_result"
    }
   ],
   "source": [
    "# get index number of word act from the list\n",
    "act_index = word_bags.index('act')\n",
    "\n",
    "# display the canonical forms\n",
    "word_bags[act_index:act_index+7]"
   ]
  },
  {
   "cell_type": "markdown",
   "id": "1e991fd7",
   "metadata": {},
   "source": [
    "existance of different language or symbols that do not belong to English language."
   ]
  },
  {
   "cell_type": "code",
   "execution_count": 24,
   "id": "b5455ccd",
   "metadata": {},
   "outputs": [
    {
     "data": {
      "text/plain": [
       "['대책', '도산', '레스토랑', '방지', '일본']"
      ]
     },
     "execution_count": 24,
     "metadata": {},
     "output_type": "execute_result"
    }
   ],
   "source": [
    "word_bags[-5:]"
   ]
  },
  {
   "cell_type": "markdown",
   "id": "ed50e33f",
   "metadata": {},
   "source": [
    "loss of context since words are being converted to lower case. Example: WHO and who go in the same bucket, definitely one (WHO-World Health Organization) is more important than the other with respect to Covid-19 and the context of the texts."
   ]
  },
  {
   "cell_type": "code",
   "execution_count": 25,
   "id": "799abcf0",
   "metadata": {},
   "outputs": [
    {
     "data": {
      "text/plain": [
       "['who', 'whole']"
      ]
     },
     "execution_count": 25,
     "metadata": {},
     "output_type": "execute_result"
    }
   ],
   "source": [
    "# get index number of word act from the list\n",
    "who_index = word_bags.index('who')\n",
    "word_bags[who_index:who_index+2]"
   ]
  },
  {
   "cell_type": "markdown",
   "id": "0bed8599",
   "metadata": {},
   "source": [
    "\n",
    "Other than these problems one obvious problem,\n",
    "\n",
    "\n",
    "or rather, an expected occuring in any Natural Language task is the introduction of new words i.e. words that weren't part of the Train Dataset but appear in the Test Dataset. These words were not recorded as a word bag and thus would not contribute to the classification process. Not much can be done about this.\n",
    "\n",
    "Let's see how many new words our classifiers in of this report will be facing."
   ]
  },
  {
   "cell_type": "code",
   "execution_count": 26,
   "id": "86ecfaa3",
   "metadata": {},
   "outputs": [
    {
     "name": "stdout",
     "output_type": "stream",
     "text": [
      "There are a total of 5709 new words that the classifier faces, some of them are:\n"
     ]
    },
    {
     "data": {
      "text/plain": [
       "['prevented',\n",
       " 'conclude',\n",
       " 'hedge',\n",
       " 'legislate',\n",
       " 'cardiac',\n",
       " 'kf94',\n",
       " 'whining',\n",
       " 'formula',\n",
       " 'suggesting',\n",
       " 'breaker',\n",
       " 'positions',\n",
       " 'bihar',\n",
       " 'replacements',\n",
       " 'statistical',\n",
       " 'happening',\n",
       " 'penalty',\n",
       " 'wrestling',\n",
       " 'fake',\n",
       " 'picnic',\n",
       " 'round']"
      ]
     },
     "execution_count": 26,
     "metadata": {},
     "output_type": "execute_result"
    }
   ],
   "source": [
    "# Create a temparay vectorizer to find newly appearing words\n",
    "temp_vectorizer = CountVectorizer()\n",
    "temp_vectorizer.fit_transform(x_test)\n",
    "temp_word_bags = temp_vectorizer.get_feature_names()\n",
    "\n",
    "# Compare the bag of words to find newly occuring words.\n",
    "# using XOR operator to Zero out the common words, leaving unique ones.\n",
    "new_words = list(set(word_bags) ^ set(temp_word_bags))\n",
    "\n",
    "# Display the results\n",
    "print(f\"There are a total of {len(new_words)} new words that the classifier faces, some of them are:\")\n",
    "new_words[:20]\n"
   ]
  },
  {
   "cell_type": "code",
   "execution_count": 27,
   "id": "fafc043c",
   "metadata": {},
   "outputs": [],
   "source": [
    "del(temp_vectorizer, temp_word_bags, new_words)"
   ]
  },
  {
   "cell_type": "markdown",
   "id": "fb95a4c4",
   "metadata": {},
   "source": [
    "## 3. Pre-Processing"
   ]
  },
  {
   "cell_type": "markdown",
   "id": "0e0e8a4d",
   "metadata": {},
   "source": [
    "Let's get rid of some of the problems we just saw:\n",
    "\n",
    "1. We will filter the dataset's to just keep english language texts\n",
    "2. lower case the words, even though we might be losing some context.\n",
    "3. Clean to remove punctuations\n",
    "4. tokenize words\n",
    "5. then convert each word to their lemma form to get consistency.\n",
    "6. remove stopwords"
   ]
  },
  {
   "cell_type": "code",
   "execution_count": 28,
   "id": "eb879640",
   "metadata": {},
   "outputs": [],
   "source": [
    "def preprocess(x):\n",
    "    \n",
    "    # if text is english then preprocess else return None\n",
    "    try:\n",
    "        if langdetect.detect(x) == 'en':\n",
    "            \n",
    "            # cleaning to keep words\n",
    "            x = re.sub(r'[^\\w\\s]', '', str(x).lower().strip())\n",
    "            \n",
    "            # cleaning to remove special chars from english\n",
    "            x = re.sub('[^A-Za-z0-9]', ' ', x)\n",
    "            \n",
    "            # tokenize\n",
    "            tokenized_x = x.split()\n",
    "           \n",
    "            # remove stopwords\n",
    "            for word in tokenized_x:\n",
    "                if word in stopwords.words('english'):\n",
    "                    tokenized_x.remove(word)\n",
    "\n",
    "            # lemmatize\n",
    "            for i, w in enumerate(tokenized_x):\n",
    "                tokenized_x[i] = WordNetLemmatizer().lemmatize(w)\n",
    "            \n",
    "            # join sentence again\n",
    "            x = \" \".join(tokenized_x)\n",
    "            \n",
    "            # return filtered sentence\n",
    "            return x\n",
    "        \n",
    "    \n",
    "    # if text is not detectable return none\n",
    "    except:\n",
    "        pass"
   ]
  },
  {
   "cell_type": "markdown",
   "id": "e3467774",
   "metadata": {},
   "source": [
    "Now let's preprocess our dataset:\n",
    "\n",
    "We concat the X and Y, Preprocess on X, drop Nan records then split into X and Y again."
   ]
  },
  {
   "cell_type": "code",
   "execution_count": 29,
   "id": "2d3f8d42",
   "metadata": {},
   "outputs": [],
   "source": [
    "# training set\n",
    "train_set = pd.concat([x_train, y_train], axis=1)\n",
    "train_set['text'] = train_set['text'].apply(preprocess)\n",
    "train_set.dropna(inplace=True)\n",
    "x_train, y_train = train_set['text'], train_set['label']\n",
    "del(train_set)\n",
    "\n",
    "# testing set\n",
    "test_set = pd.concat([x_test, y_test], axis=1)\n",
    "test_set['text'] = test_set['text'].apply(preprocess)\n",
    "test_set.dropna(inplace=True)\n",
    "x_test, y_test = test_set['text'], test_set['label']\n",
    "del(test_set)"
   ]
  },
  {
   "cell_type": "code",
   "execution_count": 30,
   "id": "78142ea7",
   "metadata": {},
   "outputs": [
    {
     "name": "stdout",
     "output_type": "stream",
     "text": [
      "(1499,)\n"
     ]
    },
    {
     "data": {
      "text/plain": [
       "537                      support safe school saskatchewan\n",
       "1414    petition nsw year 12 student hold graduation a...\n",
       "1420                 covid outbreak close devonshire mall\n",
       "823         allow ontario young athlete safe return sport\n",
       "1812    scientist agreed urged localized approach obvi...\n",
       "10      bc health mandatory mask usage across bc share...\n",
       "2139    read pfizer german company biontech become fir...\n",
       "1848    economy not going rebound properly without com...\n",
       "1820    stimulus payment go the business employee them...\n",
       "878     support fair pay nzs aged care nurse petition ...\n",
       "1972    am libertarian most issue not one 40 year care...\n",
       "53      fate amazonia it guardian linked ours europe m...\n",
       "140                          act temp la vega rent freeze\n",
       "548                        raise awareness defeat covid19\n",
       "1010    request make gmu fall 2020 class passfail opti...\n",
       "Name: text, dtype: object"
      ]
     },
     "execution_count": 30,
     "metadata": {},
     "output_type": "execute_result"
    }
   ],
   "source": [
    "# processed dataset\n",
    "print(x_train.shape)\n",
    "x_train.head(15)"
   ]
  },
  {
   "cell_type": "markdown",
   "id": "86649778",
   "metadata": {},
   "source": [
    "Create Bag of Words:"
   ]
  },
  {
   "cell_type": "code",
   "execution_count": 31,
   "id": "922cfc46",
   "metadata": {},
   "outputs": [],
   "source": [
    "vectorizer = CountVectorizer()\n",
    "bow_train = vectorizer.fit_transform(x_train)\n",
    "bow_test = vectorizer.transform(x_test)\n",
    "del(vectorizer)"
   ]
  },
  {
   "cell_type": "markdown",
   "id": "74794a98",
   "metadata": {},
   "source": [
    "## 4. Feature Engineering"
   ]
  },
  {
   "cell_type": "markdown",
   "id": "4528fc3d",
   "metadata": {},
   "source": [
    "We will experiment with a few features here only then select the best ones."
   ]
  },
  {
   "cell_type": "markdown",
   "id": "3812ac40",
   "metadata": {},
   "source": [
    "### 1. Sentiment Analysis:\n",
    "In this we assign a score to the text based on the sentiment of the text using TextBlob package."
   ]
  },
  {
   "cell_type": "code",
   "execution_count": 32,
   "id": "6c84fd84",
   "metadata": {},
   "outputs": [],
   "source": [
    "def ScoreSentiment(x):\n",
    "    return TextBlob(x).sentiment.polarity"
   ]
  },
  {
   "cell_type": "markdown",
   "id": "0b2cc1f3",
   "metadata": {},
   "source": [
    "Let's make a crosstable for the sentiments we found on the training dataset."
   ]
  },
  {
   "cell_type": "code",
   "execution_count": 33,
   "id": "c7a414d6",
   "metadata": {},
   "outputs": [
    {
     "data": {
      "text/html": [
       "<div>\n",
       "<style scoped>\n",
       "    .dataframe tbody tr th:only-of-type {\n",
       "        vertical-align: middle;\n",
       "    }\n",
       "\n",
       "    .dataframe tbody tr th {\n",
       "        vertical-align: top;\n",
       "    }\n",
       "\n",
       "    .dataframe thead th {\n",
       "        text-align: right;\n",
       "    }\n",
       "</style>\n",
       "<table border=\"1\" class=\"dataframe\">\n",
       "  <thead>\n",
       "    <tr style=\"text-align: right;\">\n",
       "      <th>label</th>\n",
       "      <th>anti-mitigation</th>\n",
       "      <th>pro-mitigation</th>\n",
       "      <th>unclear</th>\n",
       "    </tr>\n",
       "    <tr>\n",
       "      <th>text</th>\n",
       "      <th></th>\n",
       "      <th></th>\n",
       "      <th></th>\n",
       "    </tr>\n",
       "  </thead>\n",
       "  <tbody>\n",
       "    <tr>\n",
       "      <th>-0.800000</th>\n",
       "      <td>0</td>\n",
       "      <td>0</td>\n",
       "      <td>2</td>\n",
       "    </tr>\n",
       "    <tr>\n",
       "      <th>-0.800000</th>\n",
       "      <td>1</td>\n",
       "      <td>0</td>\n",
       "      <td>0</td>\n",
       "    </tr>\n",
       "    <tr>\n",
       "      <th>-0.700000</th>\n",
       "      <td>0</td>\n",
       "      <td>1</td>\n",
       "      <td>1</td>\n",
       "    </tr>\n",
       "    <tr>\n",
       "      <th>-0.700000</th>\n",
       "      <td>0</td>\n",
       "      <td>1</td>\n",
       "      <td>0</td>\n",
       "    </tr>\n",
       "    <tr>\n",
       "      <th>-0.633333</th>\n",
       "      <td>0</td>\n",
       "      <td>1</td>\n",
       "      <td>0</td>\n",
       "    </tr>\n",
       "    <tr>\n",
       "      <th>...</th>\n",
       "      <td>...</td>\n",
       "      <td>...</td>\n",
       "      <td>...</td>\n",
       "    </tr>\n",
       "    <tr>\n",
       "      <th>0.600000</th>\n",
       "      <td>2</td>\n",
       "      <td>0</td>\n",
       "      <td>1</td>\n",
       "    </tr>\n",
       "    <tr>\n",
       "      <th>0.700000</th>\n",
       "      <td>0</td>\n",
       "      <td>1</td>\n",
       "      <td>0</td>\n",
       "    </tr>\n",
       "    <tr>\n",
       "      <th>0.700000</th>\n",
       "      <td>0</td>\n",
       "      <td>3</td>\n",
       "      <td>6</td>\n",
       "    </tr>\n",
       "    <tr>\n",
       "      <th>0.750000</th>\n",
       "      <td>0</td>\n",
       "      <td>1</td>\n",
       "      <td>0</td>\n",
       "    </tr>\n",
       "    <tr>\n",
       "      <th>0.800000</th>\n",
       "      <td>0</td>\n",
       "      <td>1</td>\n",
       "      <td>0</td>\n",
       "    </tr>\n",
       "  </tbody>\n",
       "</table>\n",
       "<p>440 rows × 3 columns</p>\n",
       "</div>"
      ],
      "text/plain": [
       "label      anti-mitigation  pro-mitigation  unclear\n",
       "text                                               \n",
       "-0.800000                0               0        2\n",
       "-0.800000                1               0        0\n",
       "-0.700000                0               1        1\n",
       "-0.700000                0               1        0\n",
       "-0.633333                0               1        0\n",
       "...                    ...             ...      ...\n",
       " 0.600000                2               0        1\n",
       " 0.700000                0               1        0\n",
       " 0.700000                0               3        6\n",
       " 0.750000                0               1        0\n",
       " 0.800000                0               1        0\n",
       "\n",
       "[440 rows x 3 columns]"
      ]
     },
     "execution_count": 33,
     "metadata": {},
     "output_type": "execute_result"
    }
   ],
   "source": [
    "sentiment_check = x_train.apply(ScoreSentiment)\n",
    "ct_sentiment = pd.crosstab(sentiment_check, y_train)\n",
    "ct_sentiment"
   ]
  },
  {
   "cell_type": "markdown",
   "id": "bbc7013a",
   "metadata": {},
   "source": [
    "This crosstable doesn't give much information directly, but we can transform this table in a way to get information from it.\n",
    "\n",
    "What I will do is multiply the sentiment score with the frequency for each label and save it in a new column with absolute score. So this will give us the actual sentiment score to a label."
   ]
  },
  {
   "cell_type": "code",
   "execution_count": 34,
   "id": "f875296c",
   "metadata": {},
   "outputs": [
    {
     "data": {
      "text/html": [
       "<div>\n",
       "<style scoped>\n",
       "    .dataframe tbody tr th:only-of-type {\n",
       "        vertical-align: middle;\n",
       "    }\n",
       "\n",
       "    .dataframe tbody tr th {\n",
       "        vertical-align: top;\n",
       "    }\n",
       "\n",
       "    .dataframe thead th {\n",
       "        text-align: right;\n",
       "    }\n",
       "</style>\n",
       "<table border=\"1\" class=\"dataframe\">\n",
       "  <thead>\n",
       "    <tr style=\"text-align: right;\">\n",
       "      <th>label</th>\n",
       "      <th>anti-mitigation</th>\n",
       "      <th>pro-mitigation</th>\n",
       "      <th>unclear</th>\n",
       "      <th>anti-mitigation-abs</th>\n",
       "      <th>pro-mitigation-abs</th>\n",
       "      <th>unclear-abs</th>\n",
       "    </tr>\n",
       "    <tr>\n",
       "      <th>text</th>\n",
       "      <th></th>\n",
       "      <th></th>\n",
       "      <th></th>\n",
       "      <th></th>\n",
       "      <th></th>\n",
       "      <th></th>\n",
       "    </tr>\n",
       "  </thead>\n",
       "  <tbody>\n",
       "    <tr>\n",
       "      <th>-0.800000</th>\n",
       "      <td>0</td>\n",
       "      <td>0</td>\n",
       "      <td>2</td>\n",
       "      <td>-0.0</td>\n",
       "      <td>-0.000000</td>\n",
       "      <td>-1.6</td>\n",
       "    </tr>\n",
       "    <tr>\n",
       "      <th>-0.800000</th>\n",
       "      <td>1</td>\n",
       "      <td>0</td>\n",
       "      <td>0</td>\n",
       "      <td>-0.8</td>\n",
       "      <td>-0.000000</td>\n",
       "      <td>-0.0</td>\n",
       "    </tr>\n",
       "    <tr>\n",
       "      <th>-0.700000</th>\n",
       "      <td>0</td>\n",
       "      <td>1</td>\n",
       "      <td>1</td>\n",
       "      <td>-0.0</td>\n",
       "      <td>-0.700000</td>\n",
       "      <td>-0.7</td>\n",
       "    </tr>\n",
       "    <tr>\n",
       "      <th>-0.700000</th>\n",
       "      <td>0</td>\n",
       "      <td>1</td>\n",
       "      <td>0</td>\n",
       "      <td>-0.0</td>\n",
       "      <td>-0.700000</td>\n",
       "      <td>-0.0</td>\n",
       "    </tr>\n",
       "    <tr>\n",
       "      <th>-0.633333</th>\n",
       "      <td>0</td>\n",
       "      <td>1</td>\n",
       "      <td>0</td>\n",
       "      <td>-0.0</td>\n",
       "      <td>-0.633333</td>\n",
       "      <td>-0.0</td>\n",
       "    </tr>\n",
       "    <tr>\n",
       "      <th>...</th>\n",
       "      <td>...</td>\n",
       "      <td>...</td>\n",
       "      <td>...</td>\n",
       "      <td>...</td>\n",
       "      <td>...</td>\n",
       "      <td>...</td>\n",
       "    </tr>\n",
       "    <tr>\n",
       "      <th>0.600000</th>\n",
       "      <td>2</td>\n",
       "      <td>0</td>\n",
       "      <td>1</td>\n",
       "      <td>1.2</td>\n",
       "      <td>0.000000</td>\n",
       "      <td>0.6</td>\n",
       "    </tr>\n",
       "    <tr>\n",
       "      <th>0.700000</th>\n",
       "      <td>0</td>\n",
       "      <td>1</td>\n",
       "      <td>0</td>\n",
       "      <td>0.0</td>\n",
       "      <td>0.700000</td>\n",
       "      <td>0.0</td>\n",
       "    </tr>\n",
       "    <tr>\n",
       "      <th>0.700000</th>\n",
       "      <td>0</td>\n",
       "      <td>3</td>\n",
       "      <td>6</td>\n",
       "      <td>0.0</td>\n",
       "      <td>2.100000</td>\n",
       "      <td>4.2</td>\n",
       "    </tr>\n",
       "    <tr>\n",
       "      <th>0.750000</th>\n",
       "      <td>0</td>\n",
       "      <td>1</td>\n",
       "      <td>0</td>\n",
       "      <td>0.0</td>\n",
       "      <td>0.750000</td>\n",
       "      <td>0.0</td>\n",
       "    </tr>\n",
       "    <tr>\n",
       "      <th>0.800000</th>\n",
       "      <td>0</td>\n",
       "      <td>1</td>\n",
       "      <td>0</td>\n",
       "      <td>0.0</td>\n",
       "      <td>0.800000</td>\n",
       "      <td>0.0</td>\n",
       "    </tr>\n",
       "  </tbody>\n",
       "</table>\n",
       "<p>440 rows × 6 columns</p>\n",
       "</div>"
      ],
      "text/plain": [
       "label      anti-mitigation  pro-mitigation  unclear  anti-mitigation-abs  \\\n",
       "text                                                                       \n",
       "-0.800000                0               0        2                 -0.0   \n",
       "-0.800000                1               0        0                 -0.8   \n",
       "-0.700000                0               1        1                 -0.0   \n",
       "-0.700000                0               1        0                 -0.0   \n",
       "-0.633333                0               1        0                 -0.0   \n",
       "...                    ...             ...      ...                  ...   \n",
       " 0.600000                2               0        1                  1.2   \n",
       " 0.700000                0               1        0                  0.0   \n",
       " 0.700000                0               3        6                  0.0   \n",
       " 0.750000                0               1        0                  0.0   \n",
       " 0.800000                0               1        0                  0.0   \n",
       "\n",
       "label      pro-mitigation-abs  unclear-abs  \n",
       "text                                        \n",
       "-0.800000           -0.000000         -1.6  \n",
       "-0.800000           -0.000000         -0.0  \n",
       "-0.700000           -0.700000         -0.7  \n",
       "-0.700000           -0.700000         -0.0  \n",
       "-0.633333           -0.633333         -0.0  \n",
       "...                       ...          ...  \n",
       " 0.600000            0.000000          0.6  \n",
       " 0.700000            0.700000          0.0  \n",
       " 0.700000            2.100000          4.2  \n",
       " 0.750000            0.750000          0.0  \n",
       " 0.800000            0.800000          0.0  \n",
       "\n",
       "[440 rows x 6 columns]"
      ]
     },
     "execution_count": 34,
     "metadata": {},
     "output_type": "execute_result"
    }
   ],
   "source": [
    "ct_sentiment['anti-mitigation-abs'] = ct_sentiment['anti-mitigation'] * ct_sentiment.index\n",
    "ct_sentiment['pro-mitigation-abs'] = ct_sentiment['pro-mitigation'] * ct_sentiment.index\n",
    "ct_sentiment['unclear-abs'] = ct_sentiment['unclear'] * ct_sentiment.index\n",
    "ct_sentiment"
   ]
  },
  {
   "cell_type": "markdown",
   "id": "d983303a",
   "metadata": {},
   "source": [
    "Now I can take the sum of the absolute sentiment scores for each category. Now this will be very useful as we expect opposite categories to have more steep sentiment score so there should be a difference."
   ]
  },
  {
   "cell_type": "code",
   "execution_count": 35,
   "id": "be316a85",
   "metadata": {},
   "outputs": [
    {
     "data": {
      "text/plain": [
       "7.0854420006102075"
      ]
     },
     "execution_count": 35,
     "metadata": {},
     "output_type": "execute_result"
    }
   ],
   "source": [
    "# sum of absolute score for anti-mitigation\n",
    "ct_sentiment['anti-mitigation-abs'].sum()"
   ]
  },
  {
   "cell_type": "code",
   "execution_count": 36,
   "id": "956d83ec",
   "metadata": {},
   "outputs": [
    {
     "data": {
      "text/plain": [
       "15.104403537368139"
      ]
     },
     "execution_count": 36,
     "metadata": {},
     "output_type": "execute_result"
    }
   ],
   "source": [
    "# sum of absolute score for unclear\n",
    "ct_sentiment['unclear-abs'].sum()"
   ]
  },
  {
   "cell_type": "code",
   "execution_count": 37,
   "id": "3eb58d81",
   "metadata": {},
   "outputs": [
    {
     "data": {
      "text/plain": [
       "38.781983928427856"
      ]
     },
     "execution_count": 37,
     "metadata": {},
     "output_type": "execute_result"
    }
   ],
   "source": [
    "# sum of absolute score for pro-mitigation\n",
    "ct_sentiment['pro-mitigation-abs'].sum()"
   ]
  },
  {
   "cell_type": "markdown",
   "id": "7d7e24ba",
   "metadata": {},
   "source": [
    "This is good as there is a gap between the scores from opposite labels, so we will use the sentiment score as a feature in our model."
   ]
  },
  {
   "cell_type": "code",
   "execution_count": 38,
   "id": "182886da",
   "metadata": {},
   "outputs": [],
   "source": [
    "del(sentiment_check, ct_sentiment)"
   ]
  },
  {
   "cell_type": "markdown",
   "id": "51a45dd1",
   "metadata": {},
   "source": [
    "### 2. Finding significant Bi-grams:\n",
    "\n",
    "Here I'll first find the most frequently occuring Bi-grams:"
   ]
  },
  {
   "cell_type": "code",
   "execution_count": 39,
   "id": "34186675",
   "metadata": {},
   "outputs": [],
   "source": [
    "# make a list of tokens\n",
    "list_of_tokens = word_tokenize(x_train.str.cat(sep=\" \"))\n",
    "# make bigrams and count frequency\n",
    "dic_words_freq = nltk.FreqDist(nltk.ngrams(list_of_tokens, 2))\n",
    "# convert into DataFrame to visualize\n",
    "bi_grams = pd.DataFrame(dic_words_freq.most_common(), columns=[\"Word\",\"Freq\"])"
   ]
  },
  {
   "cell_type": "markdown",
   "id": "5c4110ab",
   "metadata": {},
   "source": [
    "We'll now find the most relevant Bi-grams from the top 25 pairs I found."
   ]
  },
  {
   "cell_type": "code",
   "execution_count": 40,
   "id": "668c10cf",
   "metadata": {},
   "outputs": [
    {
     "data": {
      "text/html": [
       "<div>\n",
       "<style scoped>\n",
       "    .dataframe tbody tr th:only-of-type {\n",
       "        vertical-align: middle;\n",
       "    }\n",
       "\n",
       "    .dataframe tbody tr th {\n",
       "        vertical-align: top;\n",
       "    }\n",
       "\n",
       "    .dataframe thead th {\n",
       "        text-align: right;\n",
       "    }\n",
       "</style>\n",
       "<table border=\"1\" class=\"dataframe\">\n",
       "  <thead>\n",
       "    <tr style=\"text-align: right;\">\n",
       "      <th></th>\n",
       "      <th>Word</th>\n",
       "      <th>Freq</th>\n",
       "    </tr>\n",
       "  </thead>\n",
       "  <tbody>\n",
       "    <tr>\n",
       "      <th>0</th>\n",
       "      <td>(get, vaccinated)</td>\n",
       "      <td>63</td>\n",
       "    </tr>\n",
       "    <tr>\n",
       "      <th>1</th>\n",
       "      <td>(wear, mask)</td>\n",
       "      <td>61</td>\n",
       "    </tr>\n",
       "    <tr>\n",
       "      <th>2</th>\n",
       "      <td>(covid, 19)</td>\n",
       "      <td>46</td>\n",
       "    </tr>\n",
       "    <tr>\n",
       "      <th>3</th>\n",
       "      <td>(due, covid19)</td>\n",
       "      <td>44</td>\n",
       "    </tr>\n",
       "    <tr>\n",
       "      <th>4</th>\n",
       "      <td>(wearing, mask)</td>\n",
       "      <td>44</td>\n",
       "    </tr>\n",
       "    <tr>\n",
       "      <th>5</th>\n",
       "      <td>(the, vaccine)</td>\n",
       "      <td>43</td>\n",
       "    </tr>\n",
       "    <tr>\n",
       "      <th>6</th>\n",
       "      <td>(public, health)</td>\n",
       "      <td>40</td>\n",
       "    </tr>\n",
       "    <tr>\n",
       "      <th>7</th>\n",
       "      <td>(covid19, pandemic)</td>\n",
       "      <td>32</td>\n",
       "    </tr>\n",
       "    <tr>\n",
       "      <th>8</th>\n",
       "      <td>(dont, want)</td>\n",
       "      <td>30</td>\n",
       "    </tr>\n",
       "    <tr>\n",
       "      <th>9</th>\n",
       "      <td>(fully, vaccinated)</td>\n",
       "      <td>28</td>\n",
       "    </tr>\n",
       "    <tr>\n",
       "      <th>10</th>\n",
       "      <td>(delta, variant)</td>\n",
       "      <td>24</td>\n",
       "    </tr>\n",
       "    <tr>\n",
       "      <th>11</th>\n",
       "      <td>(covid, vaccine)</td>\n",
       "      <td>23</td>\n",
       "    </tr>\n",
       "    <tr>\n",
       "      <th>12</th>\n",
       "      <td>(can, not)</td>\n",
       "      <td>22</td>\n",
       "    </tr>\n",
       "    <tr>\n",
       "      <th>13</th>\n",
       "      <td>(the, virus)</td>\n",
       "      <td>22</td>\n",
       "    </tr>\n",
       "    <tr>\n",
       "      <th>14</th>\n",
       "      <td>(the, covid19)</td>\n",
       "      <td>21</td>\n",
       "    </tr>\n",
       "    <tr>\n",
       "      <th>15</th>\n",
       "      <td>(a, mask)</td>\n",
       "      <td>20</td>\n",
       "    </tr>\n",
       "    <tr>\n",
       "      <th>16</th>\n",
       "      <td>(vaccinated, people)</td>\n",
       "      <td>20</td>\n",
       "    </tr>\n",
       "    <tr>\n",
       "      <th>17</th>\n",
       "      <td>(be, vaccinated)</td>\n",
       "      <td>19</td>\n",
       "    </tr>\n",
       "    <tr>\n",
       "      <th>18</th>\n",
       "      <td>(the, u)</td>\n",
       "      <td>18</td>\n",
       "    </tr>\n",
       "    <tr>\n",
       "      <th>19</th>\n",
       "      <td>(require, vaccination)</td>\n",
       "      <td>17</td>\n",
       "    </tr>\n",
       "    <tr>\n",
       "      <th>20</th>\n",
       "      <td>(bar, restaurant)</td>\n",
       "      <td>17</td>\n",
       "    </tr>\n",
       "    <tr>\n",
       "      <th>21</th>\n",
       "      <td>(stay, home)</td>\n",
       "      <td>16</td>\n",
       "    </tr>\n",
       "    <tr>\n",
       "      <th>22</th>\n",
       "      <td>(covid19, crisis)</td>\n",
       "      <td>16</td>\n",
       "    </tr>\n",
       "    <tr>\n",
       "      <th>23</th>\n",
       "      <td>(get, vaccine)</td>\n",
       "      <td>16</td>\n",
       "    </tr>\n",
       "    <tr>\n",
       "      <th>24</th>\n",
       "      <td>(get, the)</td>\n",
       "      <td>15</td>\n",
       "    </tr>\n",
       "  </tbody>\n",
       "</table>\n",
       "</div>"
      ],
      "text/plain": [
       "                      Word  Freq\n",
       "0        (get, vaccinated)    63\n",
       "1             (wear, mask)    61\n",
       "2              (covid, 19)    46\n",
       "3           (due, covid19)    44\n",
       "4          (wearing, mask)    44\n",
       "5           (the, vaccine)    43\n",
       "6         (public, health)    40\n",
       "7      (covid19, pandemic)    32\n",
       "8             (dont, want)    30\n",
       "9      (fully, vaccinated)    28\n",
       "10        (delta, variant)    24\n",
       "11        (covid, vaccine)    23\n",
       "12              (can, not)    22\n",
       "13            (the, virus)    22\n",
       "14          (the, covid19)    21\n",
       "15               (a, mask)    20\n",
       "16    (vaccinated, people)    20\n",
       "17        (be, vaccinated)    19\n",
       "18                (the, u)    18\n",
       "19  (require, vaccination)    17\n",
       "20       (bar, restaurant)    17\n",
       "21            (stay, home)    16\n",
       "22       (covid19, crisis)    16\n",
       "23          (get, vaccine)    16\n",
       "24              (get, the)    15"
      ]
     },
     "execution_count": 40,
     "metadata": {},
     "output_type": "execute_result"
    }
   ],
   "source": [
    "bi_grams[:25]"
   ]
  },
  {
   "cell_type": "markdown",
   "id": "bfcd2ba6",
   "metadata": {},
   "source": [
    "Significant Bi-grams:\n",
    "\n",
    "wear mask, get vaccinated, spread covid19, close school, prevent covid19.\n",
    "\n",
    "functions to find these bi-grams are listed at the end of feature engineering.\n",
    "\n",
    "Most relevant Bi-grams are signified on the basis of information gain. (one example given below)"
   ]
  },
  {
   "cell_type": "code",
   "execution_count": 41,
   "id": "b4fa11dc",
   "metadata": {},
   "outputs": [],
   "source": [
    "def bi_WearMask(x):\n",
    "    return int( bool( re.match(fr'.*wear mask',x) ))"
   ]
  },
  {
   "cell_type": "markdown",
   "id": "0f17aa60",
   "metadata": {},
   "source": [
    "This function returns 1 if the bigram exists in the sentence.\n",
    "\n",
    "I'll find the presence and then make a crosstable of this."
   ]
  },
  {
   "cell_type": "code",
   "execution_count": 42,
   "id": "3e5c8d36",
   "metadata": {},
   "outputs": [
    {
     "data": {
      "text/html": [
       "<div>\n",
       "<style scoped>\n",
       "    .dataframe tbody tr th:only-of-type {\n",
       "        vertical-align: middle;\n",
       "    }\n",
       "\n",
       "    .dataframe tbody tr th {\n",
       "        vertical-align: top;\n",
       "    }\n",
       "\n",
       "    .dataframe thead th {\n",
       "        text-align: right;\n",
       "    }\n",
       "</style>\n",
       "<table border=\"1\" class=\"dataframe\">\n",
       "  <thead>\n",
       "    <tr style=\"text-align: right;\">\n",
       "      <th>label</th>\n",
       "      <th>anti-mitigation</th>\n",
       "      <th>pro-mitigation</th>\n",
       "      <th>unclear</th>\n",
       "    </tr>\n",
       "    <tr>\n",
       "      <th>text</th>\n",
       "      <th></th>\n",
       "      <th></th>\n",
       "      <th></th>\n",
       "    </tr>\n",
       "  </thead>\n",
       "  <tbody>\n",
       "    <tr>\n",
       "      <th>0</th>\n",
       "      <td>152</td>\n",
       "      <td>652</td>\n",
       "      <td>648</td>\n",
       "    </tr>\n",
       "    <tr>\n",
       "      <th>1</th>\n",
       "      <td>6</td>\n",
       "      <td>35</td>\n",
       "      <td>6</td>\n",
       "    </tr>\n",
       "  </tbody>\n",
       "</table>\n",
       "</div>"
      ],
      "text/plain": [
       "label  anti-mitigation  pro-mitigation  unclear\n",
       "text                                           \n",
       "0                  152             652      648\n",
       "1                    6              35        6"
      ]
     },
     "execution_count": 42,
     "metadata": {},
     "output_type": "execute_result"
    }
   ],
   "source": [
    "wf = x_train.apply(bi_WearMask)\n",
    "pd.crosstab(wf,y_train)"
   ]
  },
  {
   "cell_type": "markdown",
   "id": "7c1b46d0",
   "metadata": {},
   "source": [
    "As you can see, everytime this Bi-gram has occured i.e. seeing the 1 row, it is almost everytime belonging to the 'pro-mitigation' class. So this gives us high information gain. We've done similar for other Bi-grams."
   ]
  },
  {
   "cell_type": "code",
   "execution_count": 43,
   "id": "4d810686",
   "metadata": {},
   "outputs": [],
   "source": [
    "def bi_GetVax(x):\n",
    "    return int( bool( re.match(fr'.*get vaccinated',x) ))\n",
    "def bi_SpreadCov(x):\n",
    "    return int( bool( re.match(fr'.*spread covid19',x) ))\n",
    "def bi_CloseSchool(x):\n",
    "    return int( bool( re.match(fr'.*close school',x) ))\n",
    "def bi_PreventCov(x):\n",
    "    return int( bool( re.match(fr'.*prevent covid19',x) ))\n",
    "del(wf, bi_grams, dic_words_freq, list_of_tokens)"
   ]
  },
  {
   "cell_type": "markdown",
   "id": "6f815862",
   "metadata": {},
   "source": [
    "### 3. Word Count"
   ]
  },
  {
   "cell_type": "markdown",
   "id": "b917c1d3",
   "metadata": {},
   "source": [
    "Gives us the count of words in the sentence."
   ]
  },
  {
   "cell_type": "code",
   "execution_count": 44,
   "id": "778764cd",
   "metadata": {},
   "outputs": [],
   "source": [
    "# function to do wordcount\n",
    "def WordCount(x):\n",
    "    return len(x.split())"
   ]
  },
  {
   "cell_type": "markdown",
   "id": "da58bf89",
   "metadata": {},
   "source": [
    "Let's get a word count on the training set and create a cross-table to see if we get a block with high frequency or see some patterns."
   ]
  },
  {
   "cell_type": "code",
   "execution_count": 45,
   "id": "198113d9",
   "metadata": {},
   "outputs": [
    {
     "data": {
      "text/html": [
       "<div>\n",
       "<style scoped>\n",
       "    .dataframe tbody tr th:only-of-type {\n",
       "        vertical-align: middle;\n",
       "    }\n",
       "\n",
       "    .dataframe tbody tr th {\n",
       "        vertical-align: top;\n",
       "    }\n",
       "\n",
       "    .dataframe thead th {\n",
       "        text-align: right;\n",
       "    }\n",
       "</style>\n",
       "<table border=\"1\" class=\"dataframe\">\n",
       "  <thead>\n",
       "    <tr style=\"text-align: right;\">\n",
       "      <th>label</th>\n",
       "      <th>anti-mitigation</th>\n",
       "      <th>pro-mitigation</th>\n",
       "      <th>unclear</th>\n",
       "    </tr>\n",
       "    <tr>\n",
       "      <th>text</th>\n",
       "      <th></th>\n",
       "      <th></th>\n",
       "      <th></th>\n",
       "    </tr>\n",
       "  </thead>\n",
       "  <tbody>\n",
       "    <tr>\n",
       "      <th>1</th>\n",
       "      <td>1</td>\n",
       "      <td>1</td>\n",
       "      <td>4</td>\n",
       "    </tr>\n",
       "    <tr>\n",
       "      <th>2</th>\n",
       "      <td>3</td>\n",
       "      <td>4</td>\n",
       "      <td>9</td>\n",
       "    </tr>\n",
       "    <tr>\n",
       "      <th>3</th>\n",
       "      <td>3</td>\n",
       "      <td>14</td>\n",
       "      <td>19</td>\n",
       "    </tr>\n",
       "    <tr>\n",
       "      <th>4</th>\n",
       "      <td>8</td>\n",
       "      <td>24</td>\n",
       "      <td>55</td>\n",
       "    </tr>\n",
       "    <tr>\n",
       "      <th>5</th>\n",
       "      <td>10</td>\n",
       "      <td>35</td>\n",
       "      <td>61</td>\n",
       "    </tr>\n",
       "    <tr>\n",
       "      <th>...</th>\n",
       "      <td>...</td>\n",
       "      <td>...</td>\n",
       "      <td>...</td>\n",
       "    </tr>\n",
       "    <tr>\n",
       "      <th>166</th>\n",
       "      <td>0</td>\n",
       "      <td>0</td>\n",
       "      <td>2</td>\n",
       "    </tr>\n",
       "    <tr>\n",
       "      <th>169</th>\n",
       "      <td>0</td>\n",
       "      <td>0</td>\n",
       "      <td>1</td>\n",
       "    </tr>\n",
       "    <tr>\n",
       "      <th>170</th>\n",
       "      <td>0</td>\n",
       "      <td>0</td>\n",
       "      <td>1</td>\n",
       "    </tr>\n",
       "    <tr>\n",
       "      <th>175</th>\n",
       "      <td>0</td>\n",
       "      <td>2</td>\n",
       "      <td>0</td>\n",
       "    </tr>\n",
       "    <tr>\n",
       "      <th>178</th>\n",
       "      <td>0</td>\n",
       "      <td>1</td>\n",
       "      <td>0</td>\n",
       "    </tr>\n",
       "  </tbody>\n",
       "</table>\n",
       "<p>136 rows × 3 columns</p>\n",
       "</div>"
      ],
      "text/plain": [
       "label  anti-mitigation  pro-mitigation  unclear\n",
       "text                                           \n",
       "1                    1               1        4\n",
       "2                    3               4        9\n",
       "3                    3              14       19\n",
       "4                    8              24       55\n",
       "5                   10              35       61\n",
       "...                ...             ...      ...\n",
       "166                  0               0        2\n",
       "169                  0               0        1\n",
       "170                  0               0        1\n",
       "175                  0               2        0\n",
       "178                  0               1        0\n",
       "\n",
       "[136 rows x 3 columns]"
      ]
     },
     "execution_count": 45,
     "metadata": {},
     "output_type": "execute_result"
    }
   ],
   "source": [
    "word_count_on_train = x_train.apply(WordCount)\n",
    "pd.crosstab(word_count_on_train,y_train)"
   ]
  },
  {
   "cell_type": "markdown",
   "id": "979fc1e7",
   "metadata": {},
   "source": [
    "There is a normal distribution pattern seen in this. Although this pattern is observed in all the three labels, we would add this feature to our bag-of-words to see if it improves the model."
   ]
  },
  {
   "cell_type": "code",
   "execution_count": 46,
   "id": "45cd8396",
   "metadata": {},
   "outputs": [],
   "source": [
    "del(word_count_on_train)"
   ]
  },
  {
   "cell_type": "markdown",
   "id": "2e8279e8",
   "metadata": {},
   "source": [
    "## 5. Add Engineered Features to Bag of Words"
   ]
  },
  {
   "cell_type": "markdown",
   "id": "fd504996",
   "metadata": {},
   "source": [
    "Let's add Sentiment Score first:"
   ]
  },
  {
   "cell_type": "code",
   "execution_count": 47,
   "id": "90a222f9",
   "metadata": {},
   "outputs": [],
   "source": [
    "bow_train = np.insert(bow_train.todense(), bow_train.shape[1], x_train.apply(ScoreSentiment), axis=1)\n",
    "bow_test = np.insert(bow_test.todense(), bow_test.shape[1], x_test.apply(ScoreSentiment), axis=1)"
   ]
  },
  {
   "cell_type": "markdown",
   "id": "214d16b9",
   "metadata": {},
   "source": [
    "Next is Word Counts:"
   ]
  },
  {
   "cell_type": "code",
   "execution_count": 48,
   "id": "1fa84834",
   "metadata": {},
   "outputs": [],
   "source": [
    "bow_train = np.insert(bow_train, bow_train.shape[1], x_train.apply(WordCount), axis=1)\n",
    "bow_test = np.insert(bow_test, bow_test.shape[1], x_test.apply(WordCount), axis=1)"
   ]
  },
  {
   "cell_type": "markdown",
   "id": "02084433",
   "metadata": {},
   "source": [
    "Finally for Bi-grams:"
   ]
  },
  {
   "cell_type": "code",
   "execution_count": 49,
   "id": "212bb7ad",
   "metadata": {},
   "outputs": [],
   "source": [
    "# For the bi-gram 'wear mask':\n",
    "bow_train = np.insert(bow_train, bow_train.shape[1], x_train.apply(bi_WearMask), axis=1)\n",
    "bow_test = np.insert(bow_test, bow_test.shape[1], x_test.apply(bi_WearMask), axis=1)\n",
    "\n",
    "# For the bi-gram 'get vaccinated':\n",
    "bow_train = np.insert(bow_train, bow_train.shape[1], x_train.apply(bi_GetVax), axis=1)\n",
    "bow_test = np.insert(bow_test, bow_test.shape[1], x_test.apply(bi_GetVax), axis=1)\n",
    "\n",
    "# For the bi-gram 'spread covid19':\n",
    "bow_train = np.insert(bow_train, bow_train.shape[1], x_train.apply(bi_SpreadCov), axis=1)\n",
    "bow_test = np.insert(bow_test, bow_test.shape[1], x_test.apply(bi_SpreadCov), axis=1)\n",
    "\n",
    "# For the bi-gram 'close school':\n",
    "bow_train = np.insert(bow_train, bow_train.shape[1], x_train.apply(bi_CloseSchool), axis=1)\n",
    "bow_test = np.insert(bow_test, bow_test.shape[1], x_test.apply(bi_CloseSchool), axis=1)\n",
    "\n",
    "# For the bi-gram 'prevent covid19':\n",
    "bow_train = np.insert(bow_train, bow_train.shape[1], x_train.apply(bi_PreventCov), axis=1)\n",
    "bow_test = np.insert(bow_test, bow_test.shape[1], x_test.apply(bi_PreventCov), axis=1)"
   ]
  },
  {
   "cell_type": "markdown",
   "id": "6a117724",
   "metadata": {},
   "source": [
    "## 6. Upload datasets to S3 for SageMaker to use:"
   ]
  },
  {
   "cell_type": "code",
   "execution_count": 50,
   "id": "d50d2437",
   "metadata": {},
   "outputs": [],
   "source": [
    "if not os.path.exists('dataset'):\n",
    "    os.mkdir('dataset')\n",
    "    \n",
    "train_data = pd.DataFrame(bow_train)    \n",
    "train_data = pd.concat([train_data, y_train], axis=1)\n",
    "train_data.dropna(inplace=True)\n",
    "train_data.to_csv('dataset/train.csv', index=False, header=False)\n",
    "bucket.Object(os.path.join(prefix, 'train/train.csv')).upload_file('dataset/train.csv')\n",
    "s3_input_train = sagemaker.inputs.TrainingInput(s3_data='s3://{}/{}/train'.format(bucket_name, prefix), content_type='csv')\n",
    "\n",
    "test_data = pd.DataFrame(bow_test)\n",
    "test_data = pd.concat([test_data, y_train], axis=1)\n",
    "test_data.dropna(inplace=True)\n",
    "pd.concat([test_data, y_test], axis=1).to_csv('dataset/test.csv', index=False, header=False)\n",
    "bucket.Object(os.path.join(prefix, 'test/test.csv')).upload_file('dataset/test.csv')"
   ]
  },
  {
   "cell_type": "markdown",
   "id": "fba83e30",
   "metadata": {},
   "source": [
    "## 7. Model Training & Evaluation:"
   ]
  },
  {
   "cell_type": "markdown",
   "id": "bddb691d",
   "metadata": {},
   "source": [
    "In this section we will evaluate the models we create.\n",
    "\n",
    "To perform evaluation, we have created the following evalutaion function (utility function) which finds the accuracy score, precision, recall, fscore and plots the confusion matrix once called. It only takes the model, true labels and predicted labels as arguments.\n",
    "\n",
    "Precision, recall and fscore are weighted because the class labels are imbalanced.\n",
    "\n",
    "I'll be using this function now on where-ever required"
   ]
  },
  {
   "cell_type": "code",
   "execution_count": 51,
   "id": "7f2d0075",
   "metadata": {},
   "outputs": [],
   "source": [
    "def evaluate(y_test, y_hat):\n",
    "    ## Using Accuracy Score\n",
    "    accuracy = accuracy_score(y_test, y_hat)\n",
    "    print(f\"Accuracy Score: {accuracy}\")\n",
    "\n",
    "    ## Using Precision, Recall and F-score\n",
    "    prf = precision_recall_fscore_support(y_test, y_hat, average='weighted')\n",
    "    print(f\"Precision: {prf[0]}\\nRecall: {prf[1]}\\nF-score: {prf[2]}\")\n",
    "\n",
    "    ## Using Confusion Matric\n",
    "    cmatrix = confusion_matrix(y_test, y_hat)\n",
    "    # PLOT\n",
    "    disp = ConfusionMatrixDisplay(cmatrix)\n",
    "    disp.plot()\n",
    "    plt.title(\"CONFUSION MATRIX\")\n",
    "    plt.show()"
   ]
  },
  {
   "cell_type": "markdown",
   "id": "008f6fa6",
   "metadata": {},
   "source": [
    "# Models"
   ]
  },
  {
   "cell_type": "markdown",
   "id": "4d4070d0",
   "metadata": {},
   "source": [
    "## Logistic Regression (implemented using sagemaker container)"
   ]
  },
  {
   "cell_type": "code",
   "execution_count": 53,
   "id": "80989ba4",
   "metadata": {},
   "outputs": [],
   "source": [
    "from sagemaker.sklearn.estimator import SKLearn\n",
    "\n",
    "sklearn = SKLearn(\n",
    "    entry_point=\"train.py\", framework_version=\"0.20.0\", instance_type=\"ml.m5.xlarge\", role=role\n",
    ")"
   ]
  },
  {
   "cell_type": "code",
   "execution_count": 55,
   "id": "934b4b5d",
   "metadata": {},
   "outputs": [
    {
     "name": "stdout",
     "output_type": "stream",
     "text": [
      "Overwriting train.py\n"
     ]
    }
   ],
   "source": [
    "%%writefile train.py\n",
    "\n",
    "\n",
    "import os\n",
    "import pandas as pd\n",
    "from sklearn.linear_model import LogisticRegression\n",
    "from sklearn.externals import joblib\n",
    "\n",
    "\n",
    "\n",
    "if __name__ == \"__main__\":\n",
    "    \n",
    "    print(\"Reading input data\")\n",
    "    train_df = pd.read_csv(os.path.join(os.environ['SM_CHANNEL_TRAIN'], 'train.csv'), header=None, engine=\"python\")\n",
    "    X_train, y_train = train_df.iloc[:,:-1],train_df.iloc[:,-1:]\n",
    "\n",
    "    model = LogisticRegression(class_weight=\"balanced\", solver=\"lbfgs\")\n",
    "    print(\"Training LR model\")\n",
    "    model.fit(X_train, y_train)\n",
    "    model_output_directory = os.path.join(os.environ.get('SM_MODEL_DIR'), \"model.joblib\")\n",
    "    print(\"Saving model to {}\".format(model_output_directory))\n",
    "    joblib.dump(model, model_output_directory)"
   ]
  },
  {
   "cell_type": "code",
   "execution_count": 56,
   "id": "8f1395ae",
   "metadata": {
    "scrolled": false
   },
   "outputs": [
    {
     "name": "stdout",
     "output_type": "stream",
     "text": [
      "2021-12-09 04:32:49 Starting - Starting the training job...\n",
      "2021-12-09 04:33:13 Starting - Launching requested ML instancesProfilerReport-1639024369: InProgress\n",
      "...\n",
      "2021-12-09 04:33:41 Starting - Preparing the instances for training.........\n",
      "2021-12-09 04:35:17 Downloading - Downloading input data\n",
      "2021-12-09 04:35:17 Training - Downloading the training image...\n",
      "2021-12-09 04:35:50 Uploading - Uploading generated training model\n",
      "2021-12-09 04:35:50 Completed - Training job completed\n",
      "\u001b[34m2021-12-09 04:35:33,276 sagemaker-containers INFO     Imported framework sagemaker_sklearn_container.training\u001b[0m\n",
      "\u001b[34m2021-12-09 04:35:33,279 sagemaker-training-toolkit INFO     No GPUs detected (normal if no gpus installed)\u001b[0m\n",
      "\u001b[34m2021-12-09 04:35:33,288 sagemaker_sklearn_container.training INFO     Invoking user training script.\u001b[0m\n",
      "\u001b[34m2021-12-09 04:35:33,588 sagemaker-training-toolkit INFO     No GPUs detected (normal if no gpus installed)\u001b[0m\n",
      "\u001b[34m2021-12-09 04:35:33,817 sagemaker-training-toolkit INFO     No GPUs detected (normal if no gpus installed)\u001b[0m\n",
      "\u001b[34m2021-12-09 04:35:33,829 sagemaker-training-toolkit INFO     No GPUs detected (normal if no gpus installed)\u001b[0m\n",
      "\u001b[34m2021-12-09 04:35:33,844 sagemaker-training-toolkit INFO     Invoking user script\u001b[0m\n",
      "\u001b[34mTraining Env:\u001b[0m\n",
      "\u001b[34m{\n",
      "    \"additional_framework_parameters\": {},\n",
      "    \"channel_input_dirs\": {\n",
      "        \"train\": \"/opt/ml/input/data/train\"\n",
      "    },\n",
      "    \"current_host\": \"algo-1\",\n",
      "    \"framework_module\": \"sagemaker_sklearn_container.training:main\",\n",
      "    \"hosts\": [\n",
      "        \"algo-1\"\n",
      "    ],\n",
      "    \"hyperparameters\": {},\n",
      "    \"input_config_dir\": \"/opt/ml/input/config\",\n",
      "    \"input_data_config\": {\n",
      "        \"train\": {\n",
      "            \"TrainingInputMode\": \"File\",\n",
      "            \"S3DistributionType\": \"FullyReplicated\",\n",
      "            \"RecordWrapperType\": \"None\"\n",
      "        }\n",
      "    },\n",
      "    \"input_dir\": \"/opt/ml/input\",\n",
      "    \"is_master\": true,\n",
      "    \"job_name\": \"sagemaker-scikit-learn-2021-12-09-04-32-49-232\",\n",
      "    \"log_level\": 20,\n",
      "    \"master_hostname\": \"algo-1\",\n",
      "    \"model_dir\": \"/opt/ml/model\",\n",
      "    \"module_dir\": \"s3://sagemaker-us-east-2-482117536264/sagemaker-scikit-learn-2021-12-09-04-32-49-232/source/sourcedir.tar.gz\",\n",
      "    \"module_name\": \"train\",\n",
      "    \"network_interface_name\": \"eth0\",\n",
      "    \"num_cpus\": 4,\n",
      "    \"num_gpus\": 0,\n",
      "    \"output_data_dir\": \"/opt/ml/output/data\",\n",
      "    \"output_dir\": \"/opt/ml/output\",\n",
      "    \"output_intermediate_dir\": \"/opt/ml/output/intermediate\",\n",
      "    \"resource_config\": {\n",
      "        \"current_host\": \"algo-1\",\n",
      "        \"hosts\": [\n",
      "            \"algo-1\"\n",
      "        ],\n",
      "        \"network_interface_name\": \"eth0\"\n",
      "    },\n",
      "    \"user_entry_point\": \"train.py\"\u001b[0m\n",
      "\u001b[34m}\u001b[0m\n",
      "\u001b[34mEnvironment variables:\u001b[0m\n",
      "\u001b[34mSM_HOSTS=[\"algo-1\"]\u001b[0m\n",
      "\u001b[34mSM_NETWORK_INTERFACE_NAME=eth0\u001b[0m\n",
      "\u001b[34mSM_HPS={}\u001b[0m\n",
      "\u001b[34mSM_USER_ENTRY_POINT=train.py\u001b[0m\n",
      "\u001b[34mSM_FRAMEWORK_PARAMS={}\u001b[0m\n",
      "\u001b[34mSM_RESOURCE_CONFIG={\"current_host\":\"algo-1\",\"hosts\":[\"algo-1\"],\"network_interface_name\":\"eth0\"}\u001b[0m\n",
      "\u001b[34mSM_INPUT_DATA_CONFIG={\"train\":{\"RecordWrapperType\":\"None\",\"S3DistributionType\":\"FullyReplicated\",\"TrainingInputMode\":\"File\"}}\u001b[0m\n",
      "\u001b[34mSM_OUTPUT_DATA_DIR=/opt/ml/output/data\u001b[0m\n",
      "\u001b[34mSM_CHANNELS=[\"train\"]\u001b[0m\n",
      "\u001b[34mSM_CURRENT_HOST=algo-1\u001b[0m\n",
      "\u001b[34mSM_MODULE_NAME=train\u001b[0m\n",
      "\u001b[34mSM_LOG_LEVEL=20\u001b[0m\n",
      "\u001b[34mSM_FRAMEWORK_MODULE=sagemaker_sklearn_container.training:main\u001b[0m\n",
      "\u001b[34mSM_INPUT_DIR=/opt/ml/input\u001b[0m\n",
      "\u001b[34mSM_INPUT_CONFIG_DIR=/opt/ml/input/config\u001b[0m\n",
      "\u001b[34mSM_OUTPUT_DIR=/opt/ml/output\u001b[0m\n",
      "\u001b[34mSM_NUM_CPUS=4\u001b[0m\n",
      "\u001b[34mSM_NUM_GPUS=0\u001b[0m\n",
      "\u001b[34mSM_MODEL_DIR=/opt/ml/model\u001b[0m\n",
      "\u001b[34mSM_MODULE_DIR=s3://sagemaker-us-east-2-482117536264/sagemaker-scikit-learn-2021-12-09-04-32-49-232/source/sourcedir.tar.gz\u001b[0m\n",
      "\u001b[34mSM_TRAINING_ENV={\"additional_framework_parameters\":{},\"channel_input_dirs\":{\"train\":\"/opt/ml/input/data/train\"},\"current_host\":\"algo-1\",\"framework_module\":\"sagemaker_sklearn_container.training:main\",\"hosts\":[\"algo-1\"],\"hyperparameters\":{},\"input_config_dir\":\"/opt/ml/input/config\",\"input_data_config\":{\"train\":{\"RecordWrapperType\":\"None\",\"S3DistributionType\":\"FullyReplicated\",\"TrainingInputMode\":\"File\"}},\"input_dir\":\"/opt/ml/input\",\"is_master\":true,\"job_name\":\"sagemaker-scikit-learn-2021-12-09-04-32-49-232\",\"log_level\":20,\"master_hostname\":\"algo-1\",\"model_dir\":\"/opt/ml/model\",\"module_dir\":\"s3://sagemaker-us-east-2-482117536264/sagemaker-scikit-learn-2021-12-09-04-32-49-232/source/sourcedir.tar.gz\",\"module_name\":\"train\",\"network_interface_name\":\"eth0\",\"num_cpus\":4,\"num_gpus\":0,\"output_data_dir\":\"/opt/ml/output/data\",\"output_dir\":\"/opt/ml/output\",\"output_intermediate_dir\":\"/opt/ml/output/intermediate\",\"resource_config\":{\"current_host\":\"algo-1\",\"hosts\":[\"algo-1\"],\"network_interface_name\":\"eth0\"},\"user_entry_point\":\"train.py\"}\u001b[0m\n",
      "\u001b[34mSM_USER_ARGS=[]\u001b[0m\n",
      "\u001b[34mSM_OUTPUT_INTERMEDIATE_DIR=/opt/ml/output/intermediate\u001b[0m\n",
      "\u001b[34mSM_CHANNEL_TRAIN=/opt/ml/input/data/train\u001b[0m\n",
      "\u001b[34mPYTHONPATH=/opt/ml/code:/miniconda3/bin:/miniconda3/lib/python37.zip:/miniconda3/lib/python3.7:/miniconda3/lib/python3.7/lib-dynload:/miniconda3/lib/python3.7/site-packages\u001b[0m\n",
      "\u001b[34mInvoking script with the following command:\u001b[0m\n",
      "\u001b[34m/miniconda3/bin/python train.py\u001b[0m\n",
      "\u001b[34m/miniconda3/lib/python3.7/site-packages/sklearn/externals/joblib/externals/cloudpickle/cloudpickle.py:47: DeprecationWarning: the imp module is deprecated in favour of importlib; see the module's documentation for alternative uses\n",
      "  import imp\u001b[0m\n",
      "\u001b[34m/miniconda3/lib/python3.7/site-packages/sklearn/linear_model/least_angle.py:35: DeprecationWarning: `np.float` is a deprecated alias for the builtin `float`. To silence this warning, use `float` by itself. Doing this will not modify any behavior and is safe. If you specifically wanted the numpy scalar type, use `np.float64` here.\u001b[0m\n",
      "\u001b[34mDeprecated in NumPy 1.20; for more details and guidance: https://numpy.org/devdocs/release/1.20.0-notes.html#deprecations\n",
      "  eps=np.finfo(np.float).eps,\u001b[0m\n",
      "\u001b[34m/miniconda3/lib/python3.7/site-packages/sklearn/linear_model/least_angle.py:597: DeprecationWarning: `np.float` is a deprecated alias for the builtin `float`. To silence this warning, use `float` by itself. Doing this will not modify any behavior and is safe. If you specifically wanted the numpy scalar type, use `np.float64` here.\u001b[0m\n",
      "\u001b[34mDeprecated in NumPy 1.20; for more details and guidance: https://numpy.org/devdocs/release/1.20.0-notes.html#deprecations\n",
      "  eps=np.finfo(np.float).eps, copy_X=True, fit_path=True,\u001b[0m\n",
      "\u001b[34m/miniconda3/lib/python3.7/site-packages/sklearn/linear_model/least_angle.py:836: DeprecationWarning: `np.float` is a deprecated alias for the builtin `float`. To silence this warning, use `float` by itself. Doing this will not modify any behavior and is safe. If you specifically wanted the numpy scalar type, use `np.float64` here.\u001b[0m\n",
      "\u001b[34mDeprecated in NumPy 1.20; for more details and guidance: https://numpy.org/devdocs/release/1.20.0-notes.html#deprecations\n",
      "  eps=np.finfo(np.float).eps, copy_X=True, fit_path=True,\u001b[0m\n",
      "\u001b[34m/miniconda3/lib/python3.7/site-packages/sklearn/linear_model/least_angle.py:862: DeprecationWarning: `np.float` is a deprecated alias for the builtin `float`. To silence this warning, use `float` by itself. Doing this will not modify any behavior and is safe. If you specifically wanted the numpy scalar type, use `np.float64` here.\u001b[0m\n",
      "\u001b[34mDeprecated in NumPy 1.20; for more details and guidance: https://numpy.org/devdocs/release/1.20.0-notes.html#deprecations\n",
      "  eps=np.finfo(np.float).eps, positive=False):\u001b[0m\n",
      "\u001b[34m/miniconda3/lib/python3.7/site-packages/sklearn/linear_model/least_angle.py:1095: DeprecationWarning: `np.float` is a deprecated alias for the builtin `float`. To silence this warning, use `float` by itself. Doing this will not modify any behavior and is safe. If you specifically wanted the numpy scalar type, use `np.float64` here.\u001b[0m\n",
      "\u001b[34mDeprecated in NumPy 1.20; for more details and guidance: https://numpy.org/devdocs/release/1.20.0-notes.html#deprecations\n",
      "  max_n_alphas=1000, n_jobs=None, eps=np.finfo(np.float).eps,\u001b[0m\n",
      "\u001b[34m/miniconda3/lib/python3.7/site-packages/sklearn/linear_model/least_angle.py:1340: DeprecationWarning: `np.float` is a deprecated alias for the builtin `float`. To silence this warning, use `float` by itself. Doing this will not modify any behavior and is safe. If you specifically wanted the numpy scalar type, use `np.float64` here.\u001b[0m\n",
      "\u001b[34mDeprecated in NumPy 1.20; for more details and guidance: https://numpy.org/devdocs/release/1.20.0-notes.html#deprecations\n",
      "  max_n_alphas=1000, n_jobs=None, eps=np.finfo(np.float).eps,\u001b[0m\n",
      "\u001b[34m/miniconda3/lib/python3.7/site-packages/sklearn/linear_model/least_angle.py:1476: DeprecationWarning: `np.float` is a deprecated alias for the builtin `float`. To silence this warning, use `float` by itself. Doing this will not modify any behavior and is safe. If you specifically wanted the numpy scalar type, use `np.float64` here.\u001b[0m\n",
      "\u001b[34mDeprecated in NumPy 1.20; for more details and guidance: https://numpy.org/devdocs/release/1.20.0-notes.html#deprecations\n",
      "  eps=np.finfo(np.float).eps, copy_X=True, positive=False):\u001b[0m\n",
      "\u001b[34m/miniconda3/lib/python3.7/site-packages/sklearn/linear_model/randomized_l1.py:152: DeprecationWarning: `np.float` is a deprecated alias for the builtin `float`. To silence this warning, use `float` by itself. Doing this will not modify any behavior and is safe. If you specifically wanted the numpy scalar type, use `np.float64` here.\u001b[0m\n",
      "\u001b[34mDeprecated in NumPy 1.20; for more details and guidance: https://numpy.org/devdocs/release/1.20.0-notes.html#deprecations\n",
      "  precompute=False, eps=np.finfo(np.float).eps,\u001b[0m\n",
      "\u001b[34m/miniconda3/lib/python3.7/site-packages/sklearn/linear_model/randomized_l1.py:320: DeprecationWarning: `np.float` is a deprecated alias for the builtin `float`. To silence this warning, use `float` by itself. Doing this will not modify any behavior and is safe. If you specifically wanted the numpy scalar type, use `np.float64` here.\u001b[0m\n",
      "\u001b[34mDeprecated in NumPy 1.20; for more details and guidance: https://numpy.org/devdocs/release/1.20.0-notes.html#deprecations\n",
      "  eps=np.finfo(np.float).eps, random_state=None,\u001b[0m\n",
      "\u001b[34m/miniconda3/lib/python3.7/site-packages/sklearn/linear_model/randomized_l1.py:580: DeprecationWarning: `np.float` is a deprecated alias for the builtin `float`. To silence this warning, use `float` by itself. Doing this will not modify any behavior and is safe. If you specifically wanted the numpy scalar type, use `np.float64` here.\u001b[0m\n",
      "\u001b[34mDeprecated in NumPy 1.20; for more details and guidance: https://numpy.org/devdocs/release/1.20.0-notes.html#deprecations\n",
      "  eps=4 * np.finfo(np.float).eps, n_jobs=None,\u001b[0m\n",
      "\u001b[34mReading input data\u001b[0m\n",
      "\u001b[34mTraining LR model\u001b[0m\n",
      "\u001b[34m/miniconda3/lib/python3.7/site-packages/sklearn/utils/validation.py:752: DataConversionWarning: A column-vector y was passed when a 1d array was expected. Please change the shape of y to (n_samples, ), for example using ravel().\n",
      "  y = column_or_1d(y, warn=True)\u001b[0m\n",
      "\u001b[34m/miniconda3/lib/python3.7/site-packages/sklearn/linear_model/logistic.py:459: FutureWarning: Default multi_class will be changed to 'auto' in 0.22. Specify the multi_class option to silence this warning.\n",
      "  \"this warning.\", FutureWarning)\u001b[0m\n",
      "\u001b[34m/miniconda3/lib/python3.7/site-packages/sklearn/linear_model/logistic.py:757: ConvergenceWarning: lbfgs failed to converge. Increase the number of iterations.\n",
      "  \"of iterations.\", ConvergenceWarning)\u001b[0m\n",
      "\u001b[34m/miniconda3/lib/python3.7/site-packages/sklearn/linear_model/logistic.py:757: ConvergenceWarning: lbfgs failed to converge. Increase the number of iterations.\n",
      "  \"of iterations.\", ConvergenceWarning)\u001b[0m\n",
      "\u001b[34m/miniconda3/lib/python3.7/site-packages/sklearn/linear_model/logistic.py:757: ConvergenceWarning: lbfgs failed to converge. Increase the number of iterations.\n",
      "  \"of iterations.\", ConvergenceWarning)\u001b[0m\n",
      "\u001b[34mSaving model to /opt/ml/model/model.joblib\u001b[0m\n",
      "\u001b[34m/miniconda3/lib/python3.7/site-packages/sklearn/externals/joblib/numpy_pickle.py:104: DeprecationWarning: tostring() is deprecated. Use tobytes() instead.\n",
      "  pickler.file_handle.write(chunk.tostring('C'))\u001b[0m\n",
      "\u001b[34m/miniconda3/lib/python3.7/site-packages/sklearn/externals/joblib/numpy_pickle.py:104: DeprecationWarning: tostring() is deprecated. Use tobytes() instead.\n",
      "  pickler.file_handle.write(chunk.tostring('C'))\u001b[0m\n",
      "\u001b[34m/miniconda3/lib/python3.7/site-packages/sklearn/externals/joblib/numpy_pickle.py:104: DeprecationWarning: tostring() is deprecated. Use tobytes() instead.\n",
      "  pickler.file_handle.write(chunk.tostring('C'))\u001b[0m\n",
      "\u001b[34m2021-12-09 04:35:40,239 sagemaker-containers INFO     Reporting training SUCCESS\u001b[0m\n",
      "Training seconds: 52\n",
      "Billable seconds: 52\n"
     ]
    }
   ],
   "source": [
    "sklearn.fit({'train':'s3://a20470263-bdt/sagemaker/train'})"
   ]
  },
  {
   "cell_type": "markdown",
   "id": "bcc5c618",
   "metadata": {},
   "source": [
    "\n",
    "### Due to cost constraint we were not able to deploy the model we created to an instance for evaluation. Infact we implemented the following models using SKlearn within this Sagemaker Jupyter Notebook without containers. \n",
    "\n",
    "We have reimplemented Logistic Regression for evaluation."
   ]
  },
  {
   "cell_type": "markdown",
   "id": "8fcae709",
   "metadata": {},
   "source": [
    "### Logistic Regression Classifier:"
   ]
  },
  {
   "cell_type": "code",
   "execution_count": 73,
   "id": "8f43e8b4",
   "metadata": {},
   "outputs": [
    {
     "name": "stdout",
     "output_type": "stream",
     "text": [
      "Logistic Regression Evaluation:\n",
      "Accuracy Score: 0.48829953198127923\n",
      "Precision: 0.4988506113203029\n",
      "Recall: 0.48829953198127923\n",
      "F-score: 0.4922065243633377\n"
     ]
    },
    {
     "data": {
      "image/png": "[encoded data removed]",
      "text/plain": [
       "<Figure size 432x288 with 2 Axes>"
      ]
     },
     "metadata": {
      "needs_background": "light"
     },
     "output_type": "display_data"
    }
   ],
   "source": [
    "from sklearn.linear_model import LogisticRegression\n",
    "\n",
    "LogisticRegression = GaussianNB()\n",
    "LogisticRegression.fit(bow_train, y_train)\n",
    "\n",
    "y_hat = LogisticRegression.predict(bow_test)\n",
    "\n",
    "print(\"Logistic Regression Evaluation:\")\n",
    "evaluate(y_test, y_hat)"
   ]
  },
  {
   "cell_type": "markdown",
   "id": "1d3a980a",
   "metadata": {},
   "source": [
    "### Gaussian NB:\n",
    "\n",
    "This model is created in notebook directly, rather \n",
    "\n",
    "than sagemaker's container due to cost constraint."
   ]
  },
  {
   "cell_type": "code",
   "execution_count": 74,
   "id": "0a255500",
   "metadata": {},
   "outputs": [
    {
     "name": "stdout",
     "output_type": "stream",
     "text": [
      "GaussianNB Evaluation:\n",
      "Accuracy Score: 0.48829953198127923\n",
      "Precision: 0.4988506113203029\n",
      "Recall: 0.48829953198127923\n",
      "F-score: 0.4922065243633377\n"
     ]
    },
    {
     "data": {
      "image/png": "[encoded data removed]",
      "text/plain": [
       "<Figure size 432x288 with 2 Axes>"
      ]
     },
     "metadata": {
      "needs_background": "light"
     },
     "output_type": "display_data"
    }
   ],
   "source": [
    "from sklearn.naive_bayes import GaussianNB\n",
    "\n",
    "GaussianNBdel = GaussianNB()\n",
    "GaussianNBdel.fit(bow_train, y_train)\n",
    "\n",
    "y_hat = GaussianNBdel.predict(bow_test)\n",
    "\n",
    "print(\"GaussianNB Evaluation:\")\n",
    "evaluate(y_test, y_hat)"
   ]
  },
  {
   "cell_type": "markdown",
   "id": "ea5e4c3e",
   "metadata": {},
   "source": [
    "### Random Forest Classifier:"
   ]
  },
  {
   "cell_type": "code",
   "execution_count": 75,
   "id": "f7d3f4c8",
   "metadata": {},
   "outputs": [
    {
     "name": "stdout",
     "output_type": "stream",
     "text": [
      "Random Forest Evaluation:\n",
      "Accuracy Score: 0.48829953198127923\n",
      "Precision: 0.4988506113203029\n",
      "Recall: 0.48829953198127923\n",
      "F-score: 0.4922065243633377\n"
     ]
    },
    {
     "data": {
      "image/png": "[encoded data removed]",
      "text/plain": [
       "<Figure size 432x288 with 2 Axes>"
      ]
     },
     "metadata": {
      "needs_background": "light"
     },
     "output_type": "display_data"
    }
   ],
   "source": [
    "from sklearn.ensemble import RandomForestClassifier\n",
    "\n",
    "RandomForestClassifier = GaussianNB()\n",
    "RandomForestClassifier.fit(bow_train, y_train)\n",
    "\n",
    "y_hat = RandomForestClassifier.predict(bow_test)\n",
    "\n",
    "print(\"Random Forest Evaluation:\")\n",
    "evaluate(y_test, y_hat)"
   ]
  }
 ],
 "metadata": {
  "kernelspec": {
   "display_name": "conda_python3",
   "language": "python",
   "name": "conda_python3"
  },
  "language_info": {
   "codemirror_mode": {
    "name": "ipython",
    "version": 3
   },
   "file_extension": ".py",
   "mimetype": "text/x-python",
   "name": "python",
   "nbconvert_exporter": "python",
   "pygments_lexer": "ipython3",
   "version": "3.6.13"
  }
 },
 "nbformat": 4,
 "nbformat_minor": 5
}
