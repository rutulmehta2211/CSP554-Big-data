{
 "cells": [
  {
   "cell_type": "markdown",
   "id": "8fa78b39",
   "metadata": {},
   "source": [
    "# BIG DATA PROJECT (PRACTICE PROJECT - REFERENCE FOR LEARNING)\n",
    "\n",
    "\n",
    "## Amazon review and sentiment analysis using aws sample files (Text classification)\n",
    "\n",
    "\n",
    "#### Author: \n",
    "#### Amandeep (A20466752)\n",
    "#### Rutul (A20476293)\n",
    "#### Amit (A20470263)\n"
   ]
  },
  {
   "cell_type": "markdown",
   "id": "2d29bdb1",
   "metadata": {},
   "source": [
    "##### As a part of understanding the workings of the SageMaker, we implement a practice project on sagemaker prior to our actual project implementation. In this practice project we used the follow source as base [1] and executed sentiment analysis and text categorization on Amazon Review dataset available publicly. This dataset was clean and easy to work on."
   ]
  },
  {
   "cell_type": "code",
   "execution_count": 1,
   "id": "5895c72b",
   "metadata": {},
   "outputs": [
    {
     "name": "stdout",
     "output_type": "stream",
     "text": [
      "SageMaker version: 2.70.0\n"
     ]
    }
   ],
   "source": [
    "\n",
    "import boto3\n",
    "import pandas as pd\n",
    "import numpy as np\n",
    "import sagemaker\n",
    "print(f'SageMaker version: {sagemaker.__version__}')"
   ]
  },
  {
   "cell_type": "code",
   "execution_count": 2,
   "id": "7877cbfb",
   "metadata": {},
   "outputs": [],
   "source": [
    "role = sagemaker.get_execution_role()\n",
    "\n",
    "#source default session parameters (region, default S3 bucket etc)\n",
    "region = boto3.Session().region_name\n",
    "sagemaker_session = sagemaker.Session()\n",
    "s3_client = boto3.client('s3', region_name=region)\n",
    "sagemaker_client = boto3.client(\"sagemaker-runtime\")\n",
    "default_bucket = sagemaker_session.default_bucket()\n",
    "prefix = 'sagemaker-pipelines-nlp-demo'"
   ]
  },
  {
   "cell_type": "code",
   "execution_count": 3,
   "id": "cc637f52",
   "metadata": {},
   "outputs": [
    {
     "name": "stdout",
     "output_type": "stream",
     "text": [
      "--2021-12-09 04:21:22--  https://sagemaker-sample-files.s3.amazonaws.com/datasets/tabular/womens_clothing_ecommerce/Womens_Clothing_E-Commerce_Reviews.csv\n",
      "Resolving sagemaker-sample-files.s3.amazonaws.com (sagemaker-sample-files.s3.amazonaws.com)... 52.217.197.41\n",
      "Connecting to sagemaker-sample-files.s3.amazonaws.com (sagemaker-sample-files.s3.amazonaws.com)|52.217.197.41|:443... connected.\n",
      "HTTP request sent, awaiting response... 200 OK\n",
      "Length: 8483448 (8.1M) [text/csv]\n",
      "Saving to: ‘data/Womens Clothing E-Commerce Reviews.csv’\n",
      "\n",
      "data/Womens Clothin 100%[===================>]   8.09M  10.2MB/s    in 0.8s    \n",
      "\n",
      "2021-12-09 04:21:23 (10.2 MB/s) - ‘data/Womens Clothing E-Commerce Reviews.csv’ saved [8483448/8483448]\n",
      "\n"
     ]
    }
   ],
   "source": [
    "!mkdir -p data\n",
    "!wget https://sagemaker-sample-files.s3.amazonaws.com/datasets/tabular/womens_clothing_ecommerce/Womens_Clothing_E-Commerce_Reviews.csv -O 'data/Womens Clothing E-Commerce Reviews.csv'\n"
   ]
  },
  {
   "cell_type": "code",
   "execution_count": 4,
   "id": "7c389dc1",
   "metadata": {},
   "outputs": [
    {
     "data": {
      "text/html": [
       "<div>\n",
       "<style scoped>\n",
       "    .dataframe tbody tr th:only-of-type {\n",
       "        vertical-align: middle;\n",
       "    }\n",
       "\n",
       "    .dataframe tbody tr th {\n",
       "        vertical-align: top;\n",
       "    }\n",
       "\n",
       "    .dataframe thead th {\n",
       "        text-align: right;\n",
       "    }\n",
       "</style>\n",
       "<table border=\"1\" class=\"dataframe\">\n",
       "  <thead>\n",
       "    <tr style=\"text-align: right;\">\n",
       "      <th></th>\n",
       "      <th>Clothing ID</th>\n",
       "      <th>Age</th>\n",
       "      <th>Title</th>\n",
       "      <th>Review Text</th>\n",
       "      <th>Rating</th>\n",
       "      <th>Recommended IND</th>\n",
       "      <th>Positive Feedback Count</th>\n",
       "      <th>Division Name</th>\n",
       "      <th>Department Name</th>\n",
       "      <th>Class Name</th>\n",
       "    </tr>\n",
       "  </thead>\n",
       "  <tbody>\n",
       "    <tr>\n",
       "      <th>0</th>\n",
       "      <td>767</td>\n",
       "      <td>33</td>\n",
       "      <td>NaN</td>\n",
       "      <td>Absolutely wonderful - silky and sexy and comf...</td>\n",
       "      <td>4</td>\n",
       "      <td>1</td>\n",
       "      <td>0</td>\n",
       "      <td>Initmates</td>\n",
       "      <td>Intimate</td>\n",
       "      <td>Intimates</td>\n",
       "    </tr>\n",
       "    <tr>\n",
       "      <th>1</th>\n",
       "      <td>1080</td>\n",
       "      <td>34</td>\n",
       "      <td>NaN</td>\n",
       "      <td>Love this dress!  it's sooo pretty.  i happene...</td>\n",
       "      <td>5</td>\n",
       "      <td>1</td>\n",
       "      <td>4</td>\n",
       "      <td>General</td>\n",
       "      <td>Dresses</td>\n",
       "      <td>Dresses</td>\n",
       "    </tr>\n",
       "    <tr>\n",
       "      <th>2</th>\n",
       "      <td>1077</td>\n",
       "      <td>60</td>\n",
       "      <td>Some major design flaws</td>\n",
       "      <td>I had such high hopes for this dress and reall...</td>\n",
       "      <td>3</td>\n",
       "      <td>0</td>\n",
       "      <td>0</td>\n",
       "      <td>General</td>\n",
       "      <td>Dresses</td>\n",
       "      <td>Dresses</td>\n",
       "    </tr>\n",
       "    <tr>\n",
       "      <th>3</th>\n",
       "      <td>1049</td>\n",
       "      <td>50</td>\n",
       "      <td>My favorite buy!</td>\n",
       "      <td>I love, love, love this jumpsuit. it's fun, fl...</td>\n",
       "      <td>5</td>\n",
       "      <td>1</td>\n",
       "      <td>0</td>\n",
       "      <td>General Petite</td>\n",
       "      <td>Bottoms</td>\n",
       "      <td>Pants</td>\n",
       "    </tr>\n",
       "    <tr>\n",
       "      <th>4</th>\n",
       "      <td>847</td>\n",
       "      <td>47</td>\n",
       "      <td>Flattering shirt</td>\n",
       "      <td>This shirt is very flattering to all due to th...</td>\n",
       "      <td>5</td>\n",
       "      <td>1</td>\n",
       "      <td>6</td>\n",
       "      <td>General</td>\n",
       "      <td>Tops</td>\n",
       "      <td>Blouses</td>\n",
       "    </tr>\n",
       "  </tbody>\n",
       "</table>\n",
       "</div>"
      ],
      "text/plain": [
       "   Clothing ID  Age                    Title  \\\n",
       "0          767   33                      NaN   \n",
       "1         1080   34                      NaN   \n",
       "2         1077   60  Some major design flaws   \n",
       "3         1049   50         My favorite buy!   \n",
       "4          847   47         Flattering shirt   \n",
       "\n",
       "                                         Review Text  Rating  Recommended IND  \\\n",
       "0  Absolutely wonderful - silky and sexy and comf...       4                1   \n",
       "1  Love this dress!  it's sooo pretty.  i happene...       5                1   \n",
       "2  I had such high hopes for this dress and reall...       3                0   \n",
       "3  I love, love, love this jumpsuit. it's fun, fl...       5                1   \n",
       "4  This shirt is very flattering to all due to th...       5                1   \n",
       "\n",
       "   Positive Feedback Count   Division Name Department Name Class Name  \n",
       "0                        0       Initmates        Intimate  Intimates  \n",
       "1                        4         General         Dresses    Dresses  \n",
       "2                        0         General         Dresses    Dresses  \n",
       "3                        0  General Petite         Bottoms      Pants  \n",
       "4                        6         General            Tops    Blouses  "
      ]
     },
     "execution_count": 4,
     "metadata": {},
     "output_type": "execute_result"
    }
   ],
   "source": [
    "df = pd.read_csv('data/Womens Clothing E-Commerce Reviews.csv',  index_col=0)\n",
    "df.head()"
   ]
  },
  {
   "cell_type": "code",
   "execution_count": 5,
   "id": "6b55419d",
   "metadata": {},
   "outputs": [
    {
     "data": {
      "image/png": "[encoded data removed]",
      "text/plain": [
       "<Figure size 432x288 with 1 Axes>"
      ]
     },
     "metadata": {
      "needs_background": "light"
     },
     "output_type": "display_data"
    }
   ],
   "source": [
    "plot = df.groupby('Rating')['Rating'].count().plot(kind='bar', title = 'Count of Product Rating')"
   ]
  },
  {
   "cell_type": "code",
   "execution_count": 6,
   "id": "901c6e27",
   "metadata": {},
   "outputs": [
    {
     "name": "stdout",
     "output_type": "stream",
     "text": [
      "s3://sagemaker-us-east-2-785516319285/sagemaker-pipelines-nlp-demo/data/Womens Clothing E-Commerce Reviews.csv\n"
     ]
    }
   ],
   "source": [
    "#upload the data to your default S3 bucket or another S3 bucket of your choosing\n",
    "local_path = \"data/Womens Clothing E-Commerce Reviews.csv\"\n",
    "\n",
    "base_uri = f\"s3://{default_bucket}/{prefix}/data\"\n",
    "input_data_uri = sagemaker.s3.S3Uploader.upload(\n",
    "    local_path=local_path,\n",
    "    desired_s3_uri=base_uri,\n",
    ")\n",
    "print(input_data_uri)\n",
    "\n"
   ]
  },
  {
   "cell_type": "code",
   "execution_count": 7,
   "id": "36257b80",
   "metadata": {},
   "outputs": [],
   "source": [
    "from sagemaker.workflow.parameters import (ParameterInteger, ParameterString)\n",
    "\n",
    "#specify location of input data\n",
    "input_data = ParameterString(\n",
    "    name=\"InputData\",\n",
    "    default_value=input_data_uri,\n",
    ")\n",
    "\n",
    "#specify default number of instances for processing step\n",
    "processing_instance_count = ParameterInteger(\n",
    "    name=\"ProcessingInstanceCount\",\n",
    "    default_value=1\n",
    ")\n",
    "\n",
    "#specify default instance type for processing step\n",
    "processing_instance_type = ParameterString(\n",
    "    name=\"ProcessingInstanceType\",\n",
    "    default_value=\"ml.m4.xlarge\"\n",
    ")\n",
    "\n",
    "#specify default instance type for training step\n",
    "train_instance_type = ParameterString(\n",
    "    name=\"TrainingInstanceType\",\n",
    "    default_value=\"ml.m4.xlarge\",\n",
    ")\n",
    "\n",
    "#specify default model approval mode\n",
    "model_approval_status = ParameterString(\n",
    "    name=\"ModelApprovalStatus\",\n",
    "    default_value=\"Approved\"\n",
    ")\n",
    "\n",
    "\n"
   ]
  },
  {
   "cell_type": "code",
   "execution_count": 8,
   "id": "73f8c0ee",
   "metadata": {},
   "outputs": [],
   "source": [
    "!mkdir -p code\n",
    "\n"
   ]
  },
  {
   "cell_type": "code",
   "execution_count": 9,
   "id": "66a993df",
   "metadata": {},
   "outputs": [
    {
     "name": "stdout",
     "output_type": "stream",
     "text": [
      "Writing code/preprocessing.py\n"
     ]
    }
   ],
   "source": [
    "%%writefile code/preprocessing.py\n",
    "\n",
    "import numpy as np\n",
    "import pandas as pd\n",
    "import string\n",
    "from sklearn.utils import resample\n",
    "\n",
    "base_dir = \"/opt/ml/processing\"\n",
    "\n",
    "df = pd.read_csv( f\"{base_dir}/input/Womens Clothing E-Commerce Reviews.csv\")\n",
    "df = df[df['Review Text'].notna()] # drop rows where Review text is missing\n",
    "\n",
    "def process_review(text):\n",
    "    punctuation = string.punctuation\n",
    "    review = text.lower()\n",
    "    review = review.replace(\"\\r\\n\", \" \").replace(\"\\n\\n\", \" \")\n",
    "    translator = str.maketrans(\"\",\"\", punctuation)\n",
    "    review  = review.translate(translator)\n",
    "    return review\n",
    "\n",
    "# create columns for concat reviews and new labels\n",
    "df['Complete_Review'] = df['Title'] + ' ' + df['Review Text']\n",
    "df = df[df['Complete_Review'].notna()] # drop rows where review text is missing\n",
    "df['Label'] = df['Rating'].map({1:'negative',2:'negative',3:'none',4:'none',5:'positive'})\n",
    "df = df.loc[df['Label'].isin(['negative','positive'])] # only use positive and negative reviews\n",
    "df['Review'] = df['Complete_Review'].astype(str).apply(process_review)\n",
    "df['Processed'] = '__label__' + df['Label'].astype(str) + ' ' + df['Review']\n",
    "\n",
    "# create train:test split\n",
    "train, validation, test = np.split(df, [int(0.7 * len(df)), int(0.85 * len(df))])\n",
    "\n",
    "# deal with unbalanced classes\n",
    "# only include resampling for training set so no data leakeage for validation sets\n",
    "positive = train.loc[train['Label']=='positive']\n",
    "negative = train.loc[train['Label']=='negative']\n",
    "\n",
    "# oversample the minority classes\n",
    "negative_oversample = resample(negative, replace=True, n_samples=len(positive))\n",
    "\n",
    "# remake training set using balanced class camples\n",
    "train = pd.concat([positive,negative_oversample])\n",
    "\n",
    "# create Series datasets for BlazingText format\n",
    "train = train['Processed']\n",
    "validation = validation['Processed']\n",
    "test = test['Processed']\n",
    "\n",
    "# save datasets\n",
    "pd.DataFrame(train).to_csv(f\"{base_dir}/train/train.csv\", header=False, index=False)\n",
    "pd.DataFrame(validation).to_csv(f\"{base_dir}/validation/validation.csv\", header=False, index=False)\n",
    "pd.DataFrame(test).to_csv(f\"{base_dir}/test/test.csv\", header=False, index=False)\n",
    "\n",
    "print(f\"Number of reviews in the training dataset: {train.shape[0]}\")\n",
    "print(f\"Number of reviews in the validation set: {validation.shape[0]}\")"
   ]
  },
  {
   "cell_type": "code",
   "execution_count": 10,
   "id": "8d831bf3",
   "metadata": {},
   "outputs": [],
   "source": [
    "from sagemaker.sklearn.processing import SKLearnProcessor\n",
    "\n",
    "framework_version = \"0.23-1\"\n",
    "\n",
    "sklearn_processor = SKLearnProcessor(\n",
    "    framework_version=framework_version,\n",
    "    instance_type=processing_instance_type,\n",
    "    instance_count=processing_instance_count,\n",
    "    base_job_name=\"sklearn-nlp-process\",\n",
    "    role=role,\n",
    ")"
   ]
  },
  {
   "cell_type": "code",
   "execution_count": 11,
   "id": "ea15af99",
   "metadata": {},
   "outputs": [],
   "source": [
    "from sagemaker.processing import ProcessingInput, ProcessingOutput\n",
    "from sagemaker.workflow.steps import ProcessingStep\n",
    "\n",
    "s3_client.upload_file(Filename='./code/preprocessing.py', Bucket=default_bucket, Key=f'{prefix}/code/preprocessing.py')\n",
    "preprocess_script_uri = f's3://{default_bucket}/{prefix}/code/preprocessing.py'\n",
    "\n",
    "process_step = ProcessingStep(\n",
    "    name=\"BTDemoProcessStep\",\n",
    "    processor=sklearn_processor,\n",
    "    inputs=[\n",
    "        ProcessingInput(source=input_data, destination=\"/opt/ml/processing/input\"),\n",
    "    ],\n",
    "    outputs=[\n",
    "        ProcessingOutput(output_name=\"train\", source=\"/opt/ml/processing/train\"),\n",
    "        ProcessingOutput(output_name=\"validation\", source=\"/opt/ml/processing/validation\"),\n",
    "        ProcessingOutput(output_name=\"test\", source=\"/opt/ml/processing/test\"),\n",
    "    ],\n",
    "    code=preprocess_script_uri,\n",
    ")"
   ]
  },
  {
   "cell_type": "code",
   "execution_count": 12,
   "id": "9cbc767e",
   "metadata": {},
   "outputs": [],
   "source": [
    "# set up estimator:\n",
    "\n",
    "from sagemaker.estimator import Estimator\n",
    "\n",
    "bt_estimator = Estimator(\n",
    "    role=role,\n",
    "    instance_type=train_instance_type,\n",
    "    instance_count=1,\n",
    "    image_uri=sagemaker.image_uris.retrieve(\"blazingtext\", region),\n",
    "    output_path=f's3://{default_bucket}/{prefix}/training_jobs',\n",
    "    base_job_name='bt-model-estimator',\n",
    "    input_mode = 'File'\n",
    ")\n",
    "\n",
    "#for more info on hyperparameters, see: https://docs.aws.amazon.com/sagemaker/latest/dg/blazingtext.html\n",
    "bt_estimator.set_hyperparameters(mode=\"supervised\",\n",
    "                                 epochs=25,\n",
    "                                 learning_rate=0.02,\n",
    "                                 min_count=2,\n",
    "                                 early_stopping=True,\n",
    "                                 patience=4,\n",
    "                                 min_epochs=10,\n",
    "                                 word_ngrams=3\n",
    "                                )"
   ]
  },
  {
   "cell_type": "code",
   "execution_count": 13,
   "id": "e89bcc56",
   "metadata": {},
   "outputs": [],
   "source": [
    "# set up model training step\n",
    "from sagemaker.inputs import TrainingInput\n",
    "from sagemaker.workflow.steps import TrainingStep\n",
    "\n",
    "train_step = TrainingStep(\n",
    "    name='BTDemoTrainStep',\n",
    "    estimator=bt_estimator,\n",
    "    inputs={\n",
    "        'train': sagemaker.inputs.TrainingInput(\n",
    "            s3_data=process_step.properties.ProcessingOutputConfig.Outputs['train'].S3Output.S3Uri,\n",
    "            content_type=\"text/csv\"\n",
    "        ),\n",
    "        'validation': sagemaker.inputs.TrainingInput(\n",
    "            s3_data=process_step.properties.ProcessingOutputConfig.Outputs['test'].S3Output.S3Uri,\n",
    "            content_type=\"text/csv\"\n",
    "        )\n",
    "    }\n",
    ")"
   ]
  },
  {
   "cell_type": "code",
   "execution_count": 14,
   "id": "a2d836b5",
   "metadata": {},
   "outputs": [],
   "source": [
    "from sagemaker.workflow.steps import CreateModelStep\n",
    "\n",
    "model = sagemaker.model.Model(\n",
    "    name='nlp-blaztext-model',\n",
    "    image_uri=train_step.properties.AlgorithmSpecification.TrainingImage,\n",
    "    model_data=train_step.properties.ModelArtifacts.S3ModelArtifacts,\n",
    "    sagemaker_session=sagemaker_session,\n",
    "    role=role\n",
    ")\n",
    "\n",
    "inputs = sagemaker.inputs.CreateModelInput(\n",
    "    instance_type=\"ml.m4.xlarge\"\n",
    ")\n",
    "\n",
    "create_model_step = CreateModelStep(\n",
    "    name=\"BTDemoCreatemodelStep\",\n",
    "    model=model,\n",
    "    inputs=inputs\n",
    ")"
   ]
  },
  {
   "cell_type": "code",
   "execution_count": 15,
   "id": "9d7853ca",
   "metadata": {},
   "outputs": [
    {
     "name": "stdout",
     "output_type": "stream",
     "text": [
      "Writing code/deploy_model.py\n"
     ]
    }
   ],
   "source": [
    "%%writefile code/deploy_model.py\n",
    "\n",
    "import time\n",
    "from datetime import datetime\n",
    "import boto3\n",
    "import argparse\n",
    "\n",
    "\n",
    "# Parse argument variables passed via the DeployModel processing step\n",
    "parser = argparse.ArgumentParser()\n",
    "parser.add_argument('--model-name', type=str)\n",
    "parser.add_argument('--region', type=str)\n",
    "parser.add_argument('--endpoint-instance-type', type=str)\n",
    "parser.add_argument('--endpoint-name', type=str)\n",
    "args = parser.parse_args()\n",
    "\n",
    "region = args.region\n",
    "boto3.setup_default_session(region_name=region)\n",
    "sagemaker_boto_client = boto3.client('sagemaker')\n",
    "\n",
    "# truncate name per sagameker length requirememnts (63 char max) if necessary\n",
    "endpoint_config_name = f'{args.endpoint_name}-config-{datetime.now().strftime(\"%Y%m%d-%H%M%S\")}'\n",
    "\n",
    "# create new endpoint config file\n",
    "create_ep_config_response = sagemaker_boto_client.create_endpoint_config(\n",
    "    EndpointConfigName=endpoint_config_name,\n",
    "    ProductionVariants=[{\n",
    "        'InstanceType': args.endpoint_instance_type,\n",
    "        'InitialVariantWeight': 1,\n",
    "        'InitialInstanceCount': 1,\n",
    "        'ModelName': args.model_name,\n",
    "        'VariantName': 'AllTraffic'\n",
    "        }])\n",
    "\n",
    "print(\"ModelName: {}\".format(args.model_name))\n",
    "\n",
    "# create endpoint if model endpoint does not already exist, otherwise update the endpoint\n",
    "try:\n",
    "    create_endpoint_response = sagemaker_boto_client.create_endpoint(\n",
    "        EndpointName=args.endpoint_name,\n",
    "        EndpointConfigName=endpoint_config_name\n",
    "    )\n",
    "except:\n",
    "    create_endpoint_response = sagemaker_boto_client.update_endpoint(\n",
    "        EndpointName=args.endpoint_name,\n",
    "        EndpointConfigName=endpoint_config_name\n",
    "    )\n",
    "\n",
    "endpoint_info = sagemaker_boto_client.describe_endpoint(EndpointName=args.endpoint_name)\n",
    "endpoint_status = endpoint_info['EndpointStatus']\n",
    "\n",
    "while endpoint_status != 'InService':\n",
    "    endpoint_info = sagemaker_boto_client.describe_endpoint(EndpointName=args.endpoint_name)\n",
    "    endpoint_status = endpoint_info['EndpointStatus']\n",
    "    print('Endpoint status:', endpoint_status)\n",
    "    if endpoint_status != 'InService':\n",
    "        time.sleep(30)"
   ]
  },
  {
   "cell_type": "code",
   "execution_count": 16,
   "id": "73e4378b",
   "metadata": {},
   "outputs": [],
   "source": [
    "s3_client.upload_file(Filename='./code/deploy_model.py', Bucket=default_bucket, Key=f'{prefix}/code/deploy_model.py')\n",
    "deploy_model_script_uri = f's3://{default_bucket}/{prefix}/code/deploy_model.py'\n",
    "pipeline_endpoint_name = 'nlp-blaztext-model-endpoint'\n",
    "\n",
    "deployment_instance_type = \"ml.m4.xlarge\"\n",
    "\n",
    "deploy_model_processor = SKLearnProcessor(\n",
    "    framework_version='0.23-1',\n",
    "    role=role,\n",
    "    instance_type='ml.m5.xlarge',\n",
    "    instance_count=1,\n",
    "    volume_size_in_gb=60,\n",
    "    base_job_name='nlp-blaztext-deploy-model',\n",
    "    sagemaker_session=sagemaker_session)\n",
    "\n",
    "deploy_step = ProcessingStep(\n",
    "    name='BTDemoDeployStep',\n",
    "    processor=deploy_model_processor,\n",
    "    job_arguments=[\n",
    "        \"--model-name\", create_model_step.properties.ModelName,\n",
    "        \"--region\", region,\n",
    "        \"--endpoint-instance-type\", deployment_instance_type,\n",
    "        \"--endpoint-name\", pipeline_endpoint_name\n",
    "    ],\n",
    "    code=deploy_model_script_uri)"
   ]
  },
  {
   "cell_type": "code",
   "execution_count": 17,
   "id": "91cccb5a",
   "metadata": {},
   "outputs": [],
   "source": [
    "from sagemaker.workflow.step_collections import RegisterModel\n",
    "\n",
    "register_step = RegisterModel(\n",
    "    name=\"BTDemoRegistermodelStep\",\n",
    "    estimator=bt_estimator,\n",
    "    model_data=train_step.properties.ModelArtifacts.S3ModelArtifacts,\n",
    "    content_types=[\"text/csv\"],\n",
    "    response_types=[\"text/csv\"],\n",
    "    inference_instances=[\"ml.t2.medium\", \"ml.m5.xlarge\"],\n",
    "    transform_instances=[\"ml.m5.xlarge\"],\n",
    "    model_package_group_name=prefix,\n",
    "    approval_status=model_approval_status,\n",
    ")"
   ]
  },
  {
   "cell_type": "code",
   "execution_count": 18,
   "id": "c739f142",
   "metadata": {},
   "outputs": [],
   "source": [
    "from sagemaker.workflow.pipeline import Pipeline\n",
    "\n",
    "#run full pipeline\n",
    "steps_full = [process_step,\n",
    "              train_step,\n",
    "              create_model_step,\n",
    "              deploy_step,\n",
    "              register_step]\n",
    "\n",
    "#run data processing step\n",
    "steps_preprocessing = [process_step]\n",
    "\n",
    "pipeline_name = 'BlazingTextPipeline'\n",
    "\n",
    "pipeline = Pipeline(\n",
    "    name=pipeline_name,\n",
    "    parameters=[\n",
    "        processing_instance_type,\n",
    "        processing_instance_count,\n",
    "        train_instance_type,\n",
    "        model_approval_status,\n",
    "        input_data\n",
    "    ],\n",
    "    steps=steps_full, #switch to steps_preprocessing if you would like to run only the data processing step\n",
    ")"
   ]
  },
  {
   "cell_type": "code",
   "execution_count": 19,
   "id": "059c0a5b",
   "metadata": {},
   "outputs": [
    {
     "name": "stderr",
     "output_type": "stream",
     "text": [
      "No finished training job found associated with this estimator. Please make sure this estimator is only used for building workflow config\n"
     ]
    },
    {
     "data": {
      "text/plain": [
       "{'Version': '2020-12-01',\n",
       " 'Metadata': {},\n",
       " 'Parameters': [{'Name': 'ProcessingInstanceType',\n",
       "   'Type': 'String',\n",
       "   'DefaultValue': 'ml.m4.xlarge'},\n",
       "  {'Name': 'ProcessingInstanceCount', 'Type': 'Integer', 'DefaultValue': 1},\n",
       "  {'Name': 'TrainingInstanceType',\n",
       "   'Type': 'String',\n",
       "   'DefaultValue': 'ml.m4.xlarge'},\n",
       "  {'Name': 'ModelApprovalStatus',\n",
       "   'Type': 'String',\n",
       "   'DefaultValue': 'Approved'},\n",
       "  {'Name': 'InputData',\n",
       "   'Type': 'String',\n",
       "   'DefaultValue': 's3://sagemaker-us-east-2-785516319285/sagemaker-pipelines-nlp-demo/data/Womens Clothing E-Commerce Reviews.csv'}],\n",
       " 'PipelineExperimentConfig': {'ExperimentName': {'Get': 'Execution.PipelineName'},\n",
       "  'TrialName': {'Get': 'Execution.PipelineExecutionId'}},\n",
       " 'Steps': [{'Name': 'BTDemoProcessStep',\n",
       "   'Type': 'Processing',\n",
       "   'Arguments': {'ProcessingResources': {'ClusterConfig': {'InstanceType': {'Get': 'Parameters.ProcessingInstanceType'},\n",
       "      'InstanceCount': {'Get': 'Parameters.ProcessingInstanceCount'},\n",
       "      'VolumeSizeInGB': 30}},\n",
       "    'AppSpecification': {'ImageUri': '257758044811.dkr.ecr.us-east-2.amazonaws.com/sagemaker-scikit-learn:0.23-1-cpu-py3',\n",
       "     'ContainerEntrypoint': ['python3',\n",
       "      '/opt/ml/processing/input/code/preprocessing.py']},\n",
       "    'RoleArn': 'arn:aws:iam::785516319285:role/service-role/AmazonSageMaker-ExecutionRole-20211130T135248',\n",
       "    'ProcessingInputs': [{'InputName': 'input-1',\n",
       "      'AppManaged': False,\n",
       "      'S3Input': {'S3Uri': {'Get': 'Parameters.InputData'},\n",
       "       'LocalPath': '/opt/ml/processing/input',\n",
       "       'S3DataType': 'S3Prefix',\n",
       "       'S3InputMode': 'File',\n",
       "       'S3DataDistributionType': 'FullyReplicated',\n",
       "       'S3CompressionType': 'None'}},\n",
       "     {'InputName': 'code',\n",
       "      'AppManaged': False,\n",
       "      'S3Input': {'S3Uri': 's3://sagemaker-us-east-2-785516319285/sagemaker-pipelines-nlp-demo/code/preprocessing.py',\n",
       "       'LocalPath': '/opt/ml/processing/input/code',\n",
       "       'S3DataType': 'S3Prefix',\n",
       "       'S3InputMode': 'File',\n",
       "       'S3DataDistributionType': 'FullyReplicated',\n",
       "       'S3CompressionType': 'None'}}],\n",
       "    'ProcessingOutputConfig': {'Outputs': [{'OutputName': 'train',\n",
       "       'AppManaged': False,\n",
       "       'S3Output': {'S3Uri': 's3://sagemaker-us-east-2-785516319285/sklearn-nlp-process-2021-12-09-04-24-14-575/output/train',\n",
       "        'LocalPath': '/opt/ml/processing/train',\n",
       "        'S3UploadMode': 'EndOfJob'}},\n",
       "      {'OutputName': 'validation',\n",
       "       'AppManaged': False,\n",
       "       'S3Output': {'S3Uri': 's3://sagemaker-us-east-2-785516319285/sklearn-nlp-process-2021-12-09-04-24-14-575/output/validation',\n",
       "        'LocalPath': '/opt/ml/processing/validation',\n",
       "        'S3UploadMode': 'EndOfJob'}},\n",
       "      {'OutputName': 'test',\n",
       "       'AppManaged': False,\n",
       "       'S3Output': {'S3Uri': 's3://sagemaker-us-east-2-785516319285/sklearn-nlp-process-2021-12-09-04-24-14-575/output/test',\n",
       "        'LocalPath': '/opt/ml/processing/test',\n",
       "        'S3UploadMode': 'EndOfJob'}}]}}},\n",
       "  {'Name': 'BTDemoTrainStep',\n",
       "   'Type': 'Training',\n",
       "   'Arguments': {'AlgorithmSpecification': {'TrainingInputMode': 'File',\n",
       "     'TrainingImage': '825641698319.dkr.ecr.us-east-2.amazonaws.com/blazingtext:1'},\n",
       "    'OutputDataConfig': {'S3OutputPath': 's3://sagemaker-us-east-2-785516319285/sagemaker-pipelines-nlp-demo/training_jobs'},\n",
       "    'StoppingCondition': {'MaxRuntimeInSeconds': 86400},\n",
       "    'ResourceConfig': {'InstanceCount': 1,\n",
       "     'InstanceType': {'Get': 'Parameters.TrainingInstanceType'},\n",
       "     'VolumeSizeInGB': 30},\n",
       "    'RoleArn': 'arn:aws:iam::785516319285:role/service-role/AmazonSageMaker-ExecutionRole-20211130T135248',\n",
       "    'InputDataConfig': [{'DataSource': {'S3DataSource': {'S3DataType': 'S3Prefix',\n",
       "        'S3Uri': {'Get': \"Steps.BTDemoProcessStep.ProcessingOutputConfig.Outputs['train'].S3Output.S3Uri\"},\n",
       "        'S3DataDistributionType': 'FullyReplicated'}},\n",
       "      'ContentType': 'text/csv',\n",
       "      'ChannelName': 'train'},\n",
       "     {'DataSource': {'S3DataSource': {'S3DataType': 'S3Prefix',\n",
       "        'S3Uri': {'Get': \"Steps.BTDemoProcessStep.ProcessingOutputConfig.Outputs['test'].S3Output.S3Uri\"},\n",
       "        'S3DataDistributionType': 'FullyReplicated'}},\n",
       "      'ContentType': 'text/csv',\n",
       "      'ChannelName': 'validation'}],\n",
       "    'HyperParameters': {'mode': 'supervised',\n",
       "     'epochs': '25',\n",
       "     'learning_rate': '0.02',\n",
       "     'min_count': '2',\n",
       "     'early_stopping': 'True',\n",
       "     'patience': '4',\n",
       "     'min_epochs': '10',\n",
       "     'word_ngrams': '3'},\n",
       "    'ProfilerRuleConfigurations': [{'RuleConfigurationName': 'ProfilerReport-1639023854',\n",
       "      'RuleEvaluatorImage': '915447279597.dkr.ecr.us-east-2.amazonaws.com/sagemaker-debugger-rules:latest',\n",
       "      'RuleParameters': {'rule_to_invoke': 'ProfilerReport'}}],\n",
       "    'ProfilerConfig': {'S3OutputPath': 's3://sagemaker-us-east-2-785516319285/sagemaker-pipelines-nlp-demo/training_jobs'}}},\n",
       "  {'Name': 'BTDemoCreatemodelStep',\n",
       "   'Type': 'Model',\n",
       "   'Arguments': {'ExecutionRoleArn': 'arn:aws:iam::785516319285:role/service-role/AmazonSageMaker-ExecutionRole-20211130T135248',\n",
       "    'PrimaryContainer': {'Image': {'Get': 'Steps.BTDemoTrainStep.AlgorithmSpecification.TrainingImage'},\n",
       "     'Environment': {},\n",
       "     'ModelDataUrl': {'Get': 'Steps.BTDemoTrainStep.ModelArtifacts.S3ModelArtifacts'}}}},\n",
       "  {'Name': 'BTDemoDeployStep',\n",
       "   'Type': 'Processing',\n",
       "   'Arguments': {'ProcessingResources': {'ClusterConfig': {'InstanceType': 'ml.m5.xlarge',\n",
       "      'InstanceCount': 1,\n",
       "      'VolumeSizeInGB': 60}},\n",
       "    'AppSpecification': {'ImageUri': '257758044811.dkr.ecr.us-east-2.amazonaws.com/sagemaker-scikit-learn:0.23-1-cpu-py3',\n",
       "     'ContainerArguments': ['--model-name',\n",
       "      {'Get': 'Steps.BTDemoCreatemodelStep.ModelName'},\n",
       "      '--region',\n",
       "      'us-east-2',\n",
       "      '--endpoint-instance-type',\n",
       "      'ml.m4.xlarge',\n",
       "      '--endpoint-name',\n",
       "      'nlp-blaztext-model-endpoint'],\n",
       "     'ContainerEntrypoint': ['python3',\n",
       "      '/opt/ml/processing/input/code/deploy_model.py']},\n",
       "    'RoleArn': 'arn:aws:iam::785516319285:role/service-role/AmazonSageMaker-ExecutionRole-20211130T135248',\n",
       "    'ProcessingInputs': [{'InputName': 'code',\n",
       "      'AppManaged': False,\n",
       "      'S3Input': {'S3Uri': 's3://sagemaker-us-east-2-785516319285/sagemaker-pipelines-nlp-demo/code/deploy_model.py',\n",
       "       'LocalPath': '/opt/ml/processing/input/code',\n",
       "       'S3DataType': 'S3Prefix',\n",
       "       'S3InputMode': 'File',\n",
       "       'S3DataDistributionType': 'FullyReplicated',\n",
       "       'S3CompressionType': 'None'}}]}},\n",
       "  {'Name': 'BTDemoRegistermodelStep',\n",
       "   'Type': 'RegisterModel',\n",
       "   'Arguments': {'ModelPackageGroupName': 'sagemaker-pipelines-nlp-demo',\n",
       "    'InferenceSpecification': {'Containers': [{'Image': '825641698319.dkr.ecr.us-east-2.amazonaws.com/blazingtext:1',\n",
       "       'ModelDataUrl': {'Get': 'Steps.BTDemoTrainStep.ModelArtifacts.S3ModelArtifacts'}}],\n",
       "     'SupportedContentTypes': ['text/csv'],\n",
       "     'SupportedResponseMIMETypes': ['text/csv'],\n",
       "     'SupportedRealtimeInferenceInstanceTypes': ['ml.t2.medium',\n",
       "      'ml.m5.xlarge'],\n",
       "     'SupportedTransformInstanceTypes': ['ml.m5.xlarge']},\n",
       "    'ModelApprovalStatus': {'Get': 'Parameters.ModelApprovalStatus'}}}]}"
      ]
     },
     "execution_count": 19,
     "metadata": {},
     "output_type": "execute_result"
    }
   ],
   "source": [
    "import json\n",
    "\n",
    "definition = json.loads(pipeline.definition())\n",
    "definition"
   ]
  },
  {
   "cell_type": "code",
   "execution_count": 20,
   "id": "db18a6d0",
   "metadata": {},
   "outputs": [
    {
     "name": "stderr",
     "output_type": "stream",
     "text": [
      "No finished training job found associated with this estimator. Please make sure this estimator is only used for building workflow config\n"
     ]
    },
    {
     "data": {
      "text/plain": [
       "{'PipelineArn': 'arn:aws:sagemaker:us-east-2:785516319285:pipeline/blazingtextpipeline',\n",
       " 'ResponseMetadata': {'RequestId': '2728447d-75b8-4c84-b9a2-47b78f7af583',\n",
       "  'HTTPStatusCode': 200,\n",
       "  'HTTPHeaders': {'x-amzn-requestid': '2728447d-75b8-4c84-b9a2-47b78f7af583',\n",
       "   'content-type': 'application/x-amz-json-1.1',\n",
       "   'content-length': '87',\n",
       "   'date': 'Thu, 09 Dec 2021 04:24:27 GMT'},\n",
       "  'RetryAttempts': 0}}"
      ]
     },
     "execution_count": 20,
     "metadata": {},
     "output_type": "execute_result"
    }
   ],
   "source": [
    "pipeline.upsert(role_arn=role)"
   ]
  },
  {
   "cell_type": "code",
   "execution_count": 21,
   "id": "5bcf832e",
   "metadata": {},
   "outputs": [],
   "source": [
    "execution = pipeline.start()"
   ]
  },
  {
   "cell_type": "code",
   "execution_count": 22,
   "id": "bc638b8b",
   "metadata": {},
   "outputs": [
    {
     "data": {
      "text/plain": [
       "{'PipelineArn': 'arn:aws:sagemaker:us-east-2:785516319285:pipeline/blazingtextpipeline',\n",
       " 'PipelineExecutionArn': 'arn:aws:sagemaker:us-east-2:785516319285:pipeline/blazingtextpipeline/execution/gb89ius4dtab',\n",
       " 'PipelineExecutionDisplayName': 'execution-1639023874392',\n",
       " 'PipelineExecutionStatus': 'Executing',\n",
       " 'PipelineExperimentConfig': {'ExperimentName': 'blazingtextpipeline',\n",
       "  'TrialName': 'gb89ius4dtab'},\n",
       " 'CreationTime': datetime.datetime(2021, 12, 9, 4, 24, 34, 285000, tzinfo=tzlocal()),\n",
       " 'LastModifiedTime': datetime.datetime(2021, 12, 9, 4, 24, 34, 285000, tzinfo=tzlocal()),\n",
       " 'CreatedBy': {},\n",
       " 'LastModifiedBy': {},\n",
       " 'ResponseMetadata': {'RequestId': '7deba880-0baf-40ea-a7bd-36c50a9a5cdf',\n",
       "  'HTTPStatusCode': 200,\n",
       "  'HTTPHeaders': {'x-amzn-requestid': '7deba880-0baf-40ea-a7bd-36c50a9a5cdf',\n",
       "   'content-type': 'application/x-amz-json-1.1',\n",
       "   'content-length': '498',\n",
       "   'date': 'Thu, 09 Dec 2021 04:24:37 GMT'},\n",
       "  'RetryAttempts': 0}}"
      ]
     },
     "execution_count": 22,
     "metadata": {},
     "output_type": "execute_result"
    }
   ],
   "source": [
    "execution.describe()"
   ]
  },
  {
   "cell_type": "code",
   "execution_count": 23,
   "id": "6d2b3f1f",
   "metadata": {},
   "outputs": [],
   "source": [
    "execution.wait()"
   ]
  },
  {
   "cell_type": "code",
   "execution_count": 24,
   "id": "334343b4",
   "metadata": {},
   "outputs": [
    {
     "data": {
      "text/plain": [
       "[{'StepName': 'BTDemoDeployStep',\n",
       "  'StartTime': datetime.datetime(2021, 12, 9, 4, 36, 9, 515000, tzinfo=tzlocal()),\n",
       "  'EndTime': datetime.datetime(2021, 12, 9, 4, 42, 55, 447000, tzinfo=tzlocal()),\n",
       "  'StepStatus': 'Succeeded',\n",
       "  'Metadata': {'ProcessingJob': {'Arn': 'arn:aws:sagemaker:us-east-2:785516319285:processing-job/pipelines-gb89ius4dtab-btdemodeploystep-oznlpc1zt5'}}},\n",
       " {'StepName': 'BTDemoCreatemodelStep',\n",
       "  'StartTime': datetime.datetime(2021, 12, 9, 4, 36, 7, 990000, tzinfo=tzlocal()),\n",
       "  'EndTime': datetime.datetime(2021, 12, 9, 4, 36, 9, 160000, tzinfo=tzlocal()),\n",
       "  'StepStatus': 'Succeeded',\n",
       "  'Metadata': {'Model': {'Arn': 'arn:aws:sagemaker:us-east-2:785516319285:model/pipelines-gb89ius4dtab-btdemocreatemodelste-algle9lgtp'}}},\n",
       " {'StepName': 'BTDemoRegistermodelStep',\n",
       "  'StartTime': datetime.datetime(2021, 12, 9, 4, 36, 7, 990000, tzinfo=tzlocal()),\n",
       "  'EndTime': datetime.datetime(2021, 12, 9, 4, 36, 9, 114000, tzinfo=tzlocal()),\n",
       "  'StepStatus': 'Succeeded',\n",
       "  'Metadata': {'RegisterModel': {'Arn': 'arn:aws:sagemaker:us-east-2:785516319285:model-package/sagemaker-pipelines-nlp-demo/1'}}},\n",
       " {'StepName': 'BTDemoTrainStep',\n",
       "  'StartTime': datetime.datetime(2021, 12, 9, 4, 30, 3, 904000, tzinfo=tzlocal()),\n",
       "  'EndTime': datetime.datetime(2021, 12, 9, 4, 36, 7, 225000, tzinfo=tzlocal()),\n",
       "  'StepStatus': 'Succeeded',\n",
       "  'Metadata': {'TrainingJob': {'Arn': 'arn:aws:sagemaker:us-east-2:785516319285:training-job/pipelines-gb89ius4dtab-btdemotrainstep-ifiqu56vgn'}}},\n",
       " {'StepName': 'BTDemoProcessStep',\n",
       "  'StartTime': datetime.datetime(2021, 12, 9, 4, 24, 35, 77000, tzinfo=tzlocal()),\n",
       "  'EndTime': datetime.datetime(2021, 12, 9, 4, 30, 3, 359000, tzinfo=tzlocal()),\n",
       "  'StepStatus': 'Succeeded',\n",
       "  'Metadata': {'ProcessingJob': {'Arn': 'arn:aws:sagemaker:us-east-2:785516319285:processing-job/pipelines-gb89ius4dtab-btdemoprocessstep-bse4xkuqro'}}}]"
      ]
     },
     "execution_count": 24,
     "metadata": {},
     "output_type": "execute_result"
    }
   ],
   "source": [
    "execution.list_steps()"
   ]
  },
  {
   "cell_type": "code",
   "execution_count": 25,
   "id": "aa6ed4f1",
   "metadata": {},
   "outputs": [],
   "source": [
    "import string\n",
    "\n",
    "def process_review(text):\n",
    "    punctuation = string.punctuation\n",
    "    review = text.lower()\n",
    "    review = review.replace(\"\\r\\n\", \" \").replace(\"\\n\\n\", \" \")\n",
    "    translator = str.maketrans(\"\",\"\", punctuation)\n",
    "    review  = review.translate(translator)\n",
    "    return review"
   ]
  },
  {
   "cell_type": "code",
   "execution_count": 26,
   "id": "9ac2d2d0",
   "metadata": {},
   "outputs": [],
   "source": [
    "sentences = [\"i loved this blouse when i saw it on-line, and the fabric is so soft!\",\n",
    "             \"love the top, but very small to the size. ordered a medium and had to send back in exchange for x-large\",\n",
    "             \"horrible! this top was scratchy and too small.\"]\n",
    "# process the reviews to predict the same as training data\n",
    "processed_sentences = [ process_review(sent) for sent in sentences ]\n",
    "\n",
    "payload = {\"instances\" : processed_sentences}"
   ]
  },
  {
   "cell_type": "code",
   "execution_count": 27,
   "id": "7a66127a",
   "metadata": {},
   "outputs": [],
   "source": [
    "def get_predictions(payload, endpoint_name, client):\n",
    "    response = client.invoke_endpoint(EndpointName=endpoint_name,\n",
    "        Body=json.dumps(payload),\n",
    "        ContentType='application/json')\n",
    "    predictions = json.loads(response['Body'].read().decode('utf-8'))\n",
    "    return list(zip(payload['instances'], predictions))"
   ]
  },
  {
   "cell_type": "code",
   "execution_count": 28,
   "id": "47bbe6c5",
   "metadata": {},
   "outputs": [
    {
     "data": {
      "text/plain": [
       "[('i loved this blouse when i saw it online and the fabric is so soft',\n",
       "  {'label': ['__label__positive'], 'prob': [0.9730098247528076]}),\n",
       " ('love the top but very small to the size ordered a medium and had to send back in exchange for xlarge',\n",
       "  {'label': ['__label__positive'], 'prob': [0.6169371008872986]}),\n",
       " ('horrible this top was scratchy and too small',\n",
       "  {'label': ['__label__negative'], 'prob': [0.9998633861541748]})]"
      ]
     },
     "execution_count": 28,
     "metadata": {},
     "output_type": "execute_result"
    }
   ],
   "source": [
    "get_predictions(payload, pipeline_endpoint_name, sagemaker_client)"
   ]
  },
  {
   "cell_type": "code",
   "execution_count": null,
   "id": "d216151b",
   "metadata": {},
   "outputs": [],
   "source": []
  },
  {
   "cell_type": "code",
   "execution_count": null,
   "id": "cfc33300",
   "metadata": {},
   "outputs": [],
   "source": []
  }
 ],
 "metadata": {
  "kernelspec": {
   "display_name": "conda_python3",
   "language": "python",
   "name": "conda_python3"
  },
  "language_info": {
   "codemirror_mode": {
    "name": "ipython",
    "version": 3
   },
   "file_extension": ".py",
   "mimetype": "text/x-python",
   "name": "python",
   "nbconvert_exporter": "python",
   "pygments_lexer": "ipython3",
   "version": "3.6.13"
  }
 },
 "nbformat": 4,
 "nbformat_minor": 5
}
